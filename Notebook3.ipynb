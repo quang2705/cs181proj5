{
 "cells": [
  {
   "cell_type": "code",
   "execution_count": 1,
   "metadata": {
    "collapsed": true
   },
   "outputs": [],
   "source": [
    "import pandas as pd"
   ]
  },
  {
   "cell_type": "markdown",
   "metadata": {
    "collapsed": true
   },
   "source": [
    "## Notebook3:  Questions and Visualizations"
   ]
  },
  {
   "cell_type": "markdown",
   "metadata": {},
   "source": [
    "### Getting the data\n",
    "The data for this visualization was pulled from the countries table in SQL that we created through Notebook2. In short, we took the data from the YouTube Api for 4 countries: United States, France , Great Britain and Spain. We then merged it with the categories table to get the names of video categories.<br>\n",
    "The main purpose of the countries.csv data is to get the upload times and the categories of appromimately 500 most popular videos in each country."
   ]
  },
  {
   "cell_type": "code",
   "execution_count": 2,
   "metadata": {
    "collapsed": false
   },
   "outputs": [
    {
     "data": {
      "text/html": [
       "<div>\n",
       "<style>\n",
       "    .dataframe thead tr:only-child th {\n",
       "        text-align: right;\n",
       "    }\n",
       "\n",
       "    .dataframe thead th {\n",
       "        text-align: left;\n",
       "    }\n",
       "\n",
       "    .dataframe tbody tr th {\n",
       "        vertical-align: top;\n",
       "    }\n",
       "</style>\n",
       "<table border=\"1\" class=\"dataframe\">\n",
       "  <thead>\n",
       "    <tr style=\"text-align: right;\">\n",
       "      <th></th>\n",
       "      <th>Unnamed: 0</th>\n",
       "      <th>CountryCode</th>\n",
       "      <th>categoryId</th>\n",
       "      <th>channelId</th>\n",
       "      <th>channelTitle</th>\n",
       "      <th>publishedAt</th>\n",
       "      <th>videoId</th>\n",
       "      <th>id</th>\n",
       "      <th>title</th>\n",
       "    </tr>\n",
       "  </thead>\n",
       "  <tbody>\n",
       "    <tr>\n",
       "      <th>0</th>\n",
       "      <td>0</td>\n",
       "      <td>US</td>\n",
       "      <td>10</td>\n",
       "      <td>UCFbRdRGijPR4oBjQ0fVCSmw</td>\n",
       "      <td>Björk</td>\n",
       "      <td>15</td>\n",
       "      <td>Sqbv7cCM5AI</td>\n",
       "      <td>10</td>\n",
       "      <td>Music</td>\n",
       "    </tr>\n",
       "    <tr>\n",
       "      <th>1</th>\n",
       "      <td>1</td>\n",
       "      <td>US</td>\n",
       "      <td>10</td>\n",
       "      <td>UC3Pa0DVzVkqEN_CwsNMapqg</td>\n",
       "      <td>SamSmithWorldVEVO</td>\n",
       "      <td>0</td>\n",
       "      <td>eYJCjVkOImU</td>\n",
       "      <td>10</td>\n",
       "      <td>Music</td>\n",
       "    </tr>\n",
       "    <tr>\n",
       "      <th>2</th>\n",
       "      <td>2</td>\n",
       "      <td>US</td>\n",
       "      <td>10</td>\n",
       "      <td>UCR5BwOS3Gb4uQtxRYRUQ7ng</td>\n",
       "      <td>LouisTomlinsonVEVO</td>\n",
       "      <td>16</td>\n",
       "      <td>inZzcTXYowY</td>\n",
       "      <td>10</td>\n",
       "      <td>Music</td>\n",
       "    </tr>\n",
       "    <tr>\n",
       "      <th>3</th>\n",
       "      <td>3</td>\n",
       "      <td>US</td>\n",
       "      <td>10</td>\n",
       "      <td>UCjjC1Jk_1o1VWpLalgo21XQ</td>\n",
       "      <td>GEazyMusicVEVO</td>\n",
       "      <td>5</td>\n",
       "      <td>HKIIgYFhQlE</td>\n",
       "      <td>10</td>\n",
       "      <td>Music</td>\n",
       "    </tr>\n",
       "    <tr>\n",
       "      <th>4</th>\n",
       "      <td>4</td>\n",
       "      <td>US</td>\n",
       "      <td>10</td>\n",
       "      <td>UCk0wwaFCIkxwSfi6gpRqQUw</td>\n",
       "      <td>CamilaCabelloVEVO</td>\n",
       "      <td>13</td>\n",
       "      <td>bg7RjxsghNY</td>\n",
       "      <td>10</td>\n",
       "      <td>Music</td>\n",
       "    </tr>\n",
       "    <tr>\n",
       "      <th>5</th>\n",
       "      <td>5</td>\n",
       "      <td>US</td>\n",
       "      <td>10</td>\n",
       "      <td>UCOvEMf00DnwdkpOCRWdc6uA</td>\n",
       "      <td>officialcharlixcx</td>\n",
       "      <td>7</td>\n",
       "      <td>sZWmwHjFRPI</td>\n",
       "      <td>10</td>\n",
       "      <td>Music</td>\n",
       "    </tr>\n",
       "    <tr>\n",
       "      <th>6</th>\n",
       "      <td>6</td>\n",
       "      <td>US</td>\n",
       "      <td>10</td>\n",
       "      <td>UCmKdSrwf1e8coqAzUsrVHZw</td>\n",
       "      <td>SiaVEVO</td>\n",
       "      <td>2</td>\n",
       "      <td>fd7M_5xW0SI</td>\n",
       "      <td>10</td>\n",
       "      <td>Music</td>\n",
       "    </tr>\n",
       "    <tr>\n",
       "      <th>7</th>\n",
       "      <td>7</td>\n",
       "      <td>US</td>\n",
       "      <td>10</td>\n",
       "      <td>UCiVxAX5STcvXQN3bYUvJi9w</td>\n",
       "      <td>leonalewis</td>\n",
       "      <td>15</td>\n",
       "      <td>d9h_qtOoFnA</td>\n",
       "      <td>10</td>\n",
       "      <td>Music</td>\n",
       "    </tr>\n",
       "    <tr>\n",
       "      <th>8</th>\n",
       "      <td>8</td>\n",
       "      <td>US</td>\n",
       "      <td>10</td>\n",
       "      <td>UCOkWMIcLDDV1P48NSCdkJ5w</td>\n",
       "      <td>Asthmatic Kitty Records</td>\n",
       "      <td>11</td>\n",
       "      <td>PUvVjWR3zTQ</td>\n",
       "      <td>10</td>\n",
       "      <td>Music</td>\n",
       "    </tr>\n",
       "    <tr>\n",
       "      <th>9</th>\n",
       "      <td>9</td>\n",
       "      <td>US</td>\n",
       "      <td>10</td>\n",
       "      <td>UCZIrDb4j3_dJf3G9jROboZQ</td>\n",
       "      <td>LiamPayneVEVO</td>\n",
       "      <td>0</td>\n",
       "      <td>Wff1pf2EdS4</td>\n",
       "      <td>10</td>\n",
       "      <td>Music</td>\n",
       "    </tr>\n",
       "  </tbody>\n",
       "</table>\n",
       "</div>"
      ],
      "text/plain": [
       "   Unnamed: 0 CountryCode  categoryId                 channelId  \\\n",
       "0           0          US          10  UCFbRdRGijPR4oBjQ0fVCSmw   \n",
       "1           1          US          10  UC3Pa0DVzVkqEN_CwsNMapqg   \n",
       "2           2          US          10  UCR5BwOS3Gb4uQtxRYRUQ7ng   \n",
       "3           3          US          10  UCjjC1Jk_1o1VWpLalgo21XQ   \n",
       "4           4          US          10  UCk0wwaFCIkxwSfi6gpRqQUw   \n",
       "5           5          US          10  UCOvEMf00DnwdkpOCRWdc6uA   \n",
       "6           6          US          10  UCmKdSrwf1e8coqAzUsrVHZw   \n",
       "7           7          US          10  UCiVxAX5STcvXQN3bYUvJi9w   \n",
       "8           8          US          10  UCOkWMIcLDDV1P48NSCdkJ5w   \n",
       "9           9          US          10  UCZIrDb4j3_dJf3G9jROboZQ   \n",
       "\n",
       "              channelTitle  publishedAt      videoId  id  title  \n",
       "0                    Björk           15  Sqbv7cCM5AI  10  Music  \n",
       "1        SamSmithWorldVEVO            0  eYJCjVkOImU  10  Music  \n",
       "2       LouisTomlinsonVEVO           16  inZzcTXYowY  10  Music  \n",
       "3           GEazyMusicVEVO            5  HKIIgYFhQlE  10  Music  \n",
       "4        CamilaCabelloVEVO           13  bg7RjxsghNY  10  Music  \n",
       "5        officialcharlixcx            7  sZWmwHjFRPI  10  Music  \n",
       "6                  SiaVEVO            2  fd7M_5xW0SI  10  Music  \n",
       "7               leonalewis           15  d9h_qtOoFnA  10  Music  \n",
       "8  Asthmatic Kitty Records           11  PUvVjWR3zTQ  10  Music  \n",
       "9            LiamPayneVEVO            0  Wff1pf2EdS4  10  Music  "
      ]
     },
     "execution_count": 2,
     "metadata": {},
     "output_type": "execute_result"
    }
   ],
   "source": [
    "country = pd.read_csv('countries.csv', encoding = 'ISO-8859-1')\n",
    "country[:10]"
   ]
  },
  {
   "cell_type": "markdown",
   "metadata": {},
   "source": [
    "### Question/Visualization 1 \n",
    "We are interested in knowing what the most popular upload times are of the most popular videos in each country. We predicted that there should be a specific time frame that famous YoTtube channels upload their videos. The average upload time for each country should thus be approximately close to each other. We also predicted that the average uplaod times will be around 20:00, since most people finish their work during the day and spend time watching videos at night.\n",
    "#### Querying:\n",
    "To answer this question, we used Tableau for our countries table in SQL. Inside the tableau, we plug in variables so that it aggregates over the CountryCode column, then averaged the times to get the average publish time."
   ]
  },
  {
   "cell_type": "markdown",
   "metadata": {},
   "source": [
    "![alt text](country_upload.png \"Title\")"
   ]
  },
  {
   "cell_type": "markdown",
   "metadata": {},
   "source": [
    "By looking at the visualization, we can see that there is clearly a partern for popular videos among the four countries. Most of the popular videos are published around 12:00 to 14:00 in the afternoon. This uploading time was totally different from what we predicted."
   ]
  },
  {
   "cell_type": "markdown",
   "metadata": {},
   "source": [
    "### Question/Visualization 2 \n",
    "We are also interested in the percentage of categories in each country's most popular videos. We will determine what is the most popular video categories for each of the four countries. Our speculation is that the music video category will have the largest percentage.\n",
    "#### Querying:\n",
    "To answer this kind of question, we use Tableau for the countries table in SQL again. Inside Tableau, we aggregate over the CountryCode column and the CategoryId column. We use the count function to count the number of different videos for each Category and each CountryCode."
   ]
  },
  {
   "cell_type": "code",
   "execution_count": 5,
   "metadata": {
    "collapsed": false
   },
   "outputs": [
    {
     "data": {
      "text/html": [
       "<div>\n",
       "<style>\n",
       "    .dataframe thead tr:only-child th {\n",
       "        text-align: right;\n",
       "    }\n",
       "\n",
       "    .dataframe thead th {\n",
       "        text-align: left;\n",
       "    }\n",
       "\n",
       "    .dataframe tbody tr th {\n",
       "        vertical-align: top;\n",
       "    }\n",
       "</style>\n",
       "<table border=\"1\" class=\"dataframe\">\n",
       "  <thead>\n",
       "    <tr style=\"text-align: right;\">\n",
       "      <th></th>\n",
       "      <th>Unnamed: 0</th>\n",
       "      <th>CountryCode</th>\n",
       "      <th>categoryId</th>\n",
       "      <th>channelId</th>\n",
       "      <th>channelTitle</th>\n",
       "      <th>publishedAt</th>\n",
       "      <th>videoId</th>\n",
       "      <th>id</th>\n",
       "      <th>title</th>\n",
       "    </tr>\n",
       "  </thead>\n",
       "  <tbody>\n",
       "    <tr>\n",
       "      <th>0</th>\n",
       "      <td>0</td>\n",
       "      <td>US</td>\n",
       "      <td>10</td>\n",
       "      <td>UCFbRdRGijPR4oBjQ0fVCSmw</td>\n",
       "      <td>Björk</td>\n",
       "      <td>15</td>\n",
       "      <td>Sqbv7cCM5AI</td>\n",
       "      <td>10</td>\n",
       "      <td>Music</td>\n",
       "    </tr>\n",
       "    <tr>\n",
       "      <th>1</th>\n",
       "      <td>1</td>\n",
       "      <td>US</td>\n",
       "      <td>10</td>\n",
       "      <td>UC3Pa0DVzVkqEN_CwsNMapqg</td>\n",
       "      <td>SamSmithWorldVEVO</td>\n",
       "      <td>0</td>\n",
       "      <td>eYJCjVkOImU</td>\n",
       "      <td>10</td>\n",
       "      <td>Music</td>\n",
       "    </tr>\n",
       "    <tr>\n",
       "      <th>2</th>\n",
       "      <td>2</td>\n",
       "      <td>US</td>\n",
       "      <td>10</td>\n",
       "      <td>UCR5BwOS3Gb4uQtxRYRUQ7ng</td>\n",
       "      <td>LouisTomlinsonVEVO</td>\n",
       "      <td>16</td>\n",
       "      <td>inZzcTXYowY</td>\n",
       "      <td>10</td>\n",
       "      <td>Music</td>\n",
       "    </tr>\n",
       "    <tr>\n",
       "      <th>3</th>\n",
       "      <td>3</td>\n",
       "      <td>US</td>\n",
       "      <td>10</td>\n",
       "      <td>UCjjC1Jk_1o1VWpLalgo21XQ</td>\n",
       "      <td>GEazyMusicVEVO</td>\n",
       "      <td>5</td>\n",
       "      <td>HKIIgYFhQlE</td>\n",
       "      <td>10</td>\n",
       "      <td>Music</td>\n",
       "    </tr>\n",
       "    <tr>\n",
       "      <th>4</th>\n",
       "      <td>4</td>\n",
       "      <td>US</td>\n",
       "      <td>10</td>\n",
       "      <td>UCk0wwaFCIkxwSfi6gpRqQUw</td>\n",
       "      <td>CamilaCabelloVEVO</td>\n",
       "      <td>13</td>\n",
       "      <td>bg7RjxsghNY</td>\n",
       "      <td>10</td>\n",
       "      <td>Music</td>\n",
       "    </tr>\n",
       "    <tr>\n",
       "      <th>5</th>\n",
       "      <td>5</td>\n",
       "      <td>US</td>\n",
       "      <td>10</td>\n",
       "      <td>UCOvEMf00DnwdkpOCRWdc6uA</td>\n",
       "      <td>officialcharlixcx</td>\n",
       "      <td>7</td>\n",
       "      <td>sZWmwHjFRPI</td>\n",
       "      <td>10</td>\n",
       "      <td>Music</td>\n",
       "    </tr>\n",
       "    <tr>\n",
       "      <th>6</th>\n",
       "      <td>6</td>\n",
       "      <td>US</td>\n",
       "      <td>10</td>\n",
       "      <td>UCmKdSrwf1e8coqAzUsrVHZw</td>\n",
       "      <td>SiaVEVO</td>\n",
       "      <td>2</td>\n",
       "      <td>fd7M_5xW0SI</td>\n",
       "      <td>10</td>\n",
       "      <td>Music</td>\n",
       "    </tr>\n",
       "    <tr>\n",
       "      <th>7</th>\n",
       "      <td>7</td>\n",
       "      <td>US</td>\n",
       "      <td>10</td>\n",
       "      <td>UCiVxAX5STcvXQN3bYUvJi9w</td>\n",
       "      <td>leonalewis</td>\n",
       "      <td>15</td>\n",
       "      <td>d9h_qtOoFnA</td>\n",
       "      <td>10</td>\n",
       "      <td>Music</td>\n",
       "    </tr>\n",
       "    <tr>\n",
       "      <th>8</th>\n",
       "      <td>8</td>\n",
       "      <td>US</td>\n",
       "      <td>10</td>\n",
       "      <td>UCOkWMIcLDDV1P48NSCdkJ5w</td>\n",
       "      <td>Asthmatic Kitty Records</td>\n",
       "      <td>11</td>\n",
       "      <td>PUvVjWR3zTQ</td>\n",
       "      <td>10</td>\n",
       "      <td>Music</td>\n",
       "    </tr>\n",
       "    <tr>\n",
       "      <th>9</th>\n",
       "      <td>9</td>\n",
       "      <td>US</td>\n",
       "      <td>10</td>\n",
       "      <td>UCZIrDb4j3_dJf3G9jROboZQ</td>\n",
       "      <td>LiamPayneVEVO</td>\n",
       "      <td>0</td>\n",
       "      <td>Wff1pf2EdS4</td>\n",
       "      <td>10</td>\n",
       "      <td>Music</td>\n",
       "    </tr>\n",
       "  </tbody>\n",
       "</table>\n",
       "</div>"
      ],
      "text/plain": [
       "   Unnamed: 0 CountryCode  categoryId                 channelId  \\\n",
       "0           0          US          10  UCFbRdRGijPR4oBjQ0fVCSmw   \n",
       "1           1          US          10  UC3Pa0DVzVkqEN_CwsNMapqg   \n",
       "2           2          US          10  UCR5BwOS3Gb4uQtxRYRUQ7ng   \n",
       "3           3          US          10  UCjjC1Jk_1o1VWpLalgo21XQ   \n",
       "4           4          US          10  UCk0wwaFCIkxwSfi6gpRqQUw   \n",
       "5           5          US          10  UCOvEMf00DnwdkpOCRWdc6uA   \n",
       "6           6          US          10  UCmKdSrwf1e8coqAzUsrVHZw   \n",
       "7           7          US          10  UCiVxAX5STcvXQN3bYUvJi9w   \n",
       "8           8          US          10  UCOkWMIcLDDV1P48NSCdkJ5w   \n",
       "9           9          US          10  UCZIrDb4j3_dJf3G9jROboZQ   \n",
       "\n",
       "              channelTitle  publishedAt      videoId  id  title  \n",
       "0                    Björk           15  Sqbv7cCM5AI  10  Music  \n",
       "1        SamSmithWorldVEVO            0  eYJCjVkOImU  10  Music  \n",
       "2       LouisTomlinsonVEVO           16  inZzcTXYowY  10  Music  \n",
       "3           GEazyMusicVEVO            5  HKIIgYFhQlE  10  Music  \n",
       "4        CamilaCabelloVEVO           13  bg7RjxsghNY  10  Music  \n",
       "5        officialcharlixcx            7  sZWmwHjFRPI  10  Music  \n",
       "6                  SiaVEVO            2  fd7M_5xW0SI  10  Music  \n",
       "7               leonalewis           15  d9h_qtOoFnA  10  Music  \n",
       "8  Asthmatic Kitty Records           11  PUvVjWR3zTQ  10  Music  \n",
       "9            LiamPayneVEVO            0  Wff1pf2EdS4  10  Music  "
      ]
     },
     "execution_count": 5,
     "metadata": {},
     "output_type": "execute_result"
    }
   ],
   "source": [
    "country[:10]"
   ]
  },
  {
   "cell_type": "markdown",
   "metadata": {},
   "source": [
    "![alt text](country_category.png \"Title\")"
   ]
  },
  {
   "cell_type": "markdown",
   "metadata": {},
   "source": [
    "By looking at the visualization, we can see that Music does not take the highest percentage within the total catagory. We see that Entertainment was the biggest slice within the pie chart. In almost every country, Entertainment is over 50 percent of the total video category. One explanation is that Entertainment videos are those which have diverse content (instead of being dependent on one topic), which is why they can reach a bigger range of audience. Beside Entertainment, we can see several other popular categories for each country. For example, in Spain, we see a trend in Music and People/Blogs. In France, we have Comedy and News/Politics. In Great Britain, we have Gamming and Music. In the US, it spreads evenly within Style, Music, People and Comedy. "
   ]
  },
  {
   "cell_type": "markdown",
   "metadata": {},
   "source": [
    "### Question/Visualization 3\n",
    "With the same question in mind, we now turn to the overall most popular categories of popular videos globally. To answer this question, we aggregate all the data, regardless of country, to count all popular videos by category. Using the same data frame, we represent our findings with category bubbles that are sized by their count of popular videos within them."
   ]
  },
  {
   "cell_type": "markdown",
   "metadata": {},
   "source": [
    "![alt text](Category-Popularity.jpg \"Title\")"
   ]
  },
  {
   "cell_type": "markdown",
   "metadata": {},
   "source": [
    "Overall, we confirm that the Entertainment category is the most popular around the world by a significant margin. We also see that comedy, music, howTo & style and people & blogs are also popular around the world. Sadly, education, news/politics and science/technology are not quite as popular, and make up a much smaller percentage of the most popular videos on YouTube."
   ]
  },
  {
   "cell_type": "markdown",
   "metadata": {},
   "source": [
    "### Question/Visualization 4\n",
    "Finally, our last interest related to upload time and category is: Do categories have different average upload times? We hypothesize that channels related to entertainment, music and gaming will be uploaded later, while channels like news and education will be uploaded earlier. First we group by the category and aggregate the upload times by an average.\n"
   ]
  },
  {
   "cell_type": "markdown",
   "metadata": {},
   "source": [
    "![alt text](Category-UploadTime.jpg \"Title\")"
   ]
  },
  {
   "cell_type": "markdown",
   "metadata": {},
   "source": [
    "We see that in fact music and gaming aare the first videos to be uploaded, usually around 8 am. Entertainment, film and science and technology are uploaded later, usually in the afternoon. On average, most videos are uploaded around noon, and most videos are not uploaded late in the day as we initially thought."
   ]
  },
  {
   "cell_type": "code",
   "execution_count": null,
   "metadata": {
    "collapsed": true
   },
   "outputs": [],
   "source": []
  }
 ],
 "metadata": {
  "kernelspec": {
   "display_name": "Python 3",
   "language": "python",
   "name": "python3"
  },
  "language_info": {
   "codemirror_mode": {
    "name": "ipython",
    "version": 3
   },
   "file_extension": ".py",
   "mimetype": "text/x-python",
   "name": "python",
   "nbconvert_exporter": "python",
   "pygments_lexer": "ipython3",
   "version": "3.6.0"
  }
 },
 "nbformat": 4,
 "nbformat_minor": 2
}
