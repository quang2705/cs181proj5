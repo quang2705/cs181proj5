{
 "cells": [
  {
   "cell_type": "code",
   "execution_count": 1,
   "metadata": {
    "collapsed": true
   },
   "outputs": [],
   "source": [
    "import json\n",
    "import requests\n",
    "import pandas as pd\n",
    "import importlib\n",
    "from requests_oauthlib import OAuth2Session"
   ]
  },
  {
   "cell_type": "code",
   "execution_count": 2,
   "metadata": {},
   "outputs": [
    {
     "data": {
      "text/plain": [
       "'{\"access_token\": \"ya29.GlseBQ2EHC3X2VD9UO_TO_h1u61c9DvacFJMfNFKz54clAT3Q-6kCB-ux754CGh5wY7K3o8Ajln1xmgJjxcxBuUGT2caGGrk2HwwR_Cmz46ydSH8wQ0ON2WJhiPd\", \"expires_in\": 3600, \"token_type\": \"Bearer\", \"expires_at\": 1512884856.271626, \"refresh_token\": \"1/4oXPMNa6MQBPwqIerHCyZgMF3H1iW2dFbTwmTHX9RRqK-pfiakClwdNTpjixbdE1\"}'"
      ]
     },
     "execution_count": 2,
     "metadata": {},
     "output_type": "execute_result"
    }
   ],
   "source": [
    "token=open('token.json',mode='r')\n",
    "token=token.read()\n",
    "token"
   ]
  },
  {
   "cell_type": "code",
   "execution_count": 3,
   "metadata": {},
   "outputs": [
    {
     "data": {
      "text/plain": [
       "{'access_token': 'ya29.GlseBQ2EHC3X2VD9UO_TO_h1u61c9DvacFJMfNFKz54clAT3Q-6kCB-ux754CGh5wY7K3o8Ajln1xmgJjxcxBuUGT2caGGrk2HwwR_Cmz46ydSH8wQ0ON2WJhiPd',\n",
       " 'expires_at': 1512884856.271626,\n",
       " 'expires_in': 3600,\n",
       " 'refresh_token': '1/4oXPMNa6MQBPwqIerHCyZgMF3H1iW2dFbTwmTHX9RRqK-pfiakClwdNTpjixbdE1',\n",
       " 'token_type': 'Bearer'}"
      ]
     },
     "execution_count": 3,
     "metadata": {},
     "output_type": "execute_result"
    }
   ],
   "source": [
    "token=json.loads(token)\n",
    "token"
   ]
  },
  {
   "cell_type": "code",
   "execution_count": 4,
   "metadata": {},
   "outputs": [
    {
     "data": {
      "text/plain": [
       "{'auth_provider_x509_cert_url': 'https://www.googleapis.com/oauth2/v1/certs',\n",
       " 'auth_uri': 'https://accounts.google.com/o/oauth2/auth',\n",
       " 'client_id': '126920892433-e58m7pn87600743drvlsjsanlcsus2av.apps.googleusercontent.com',\n",
       " 'client_secret': 'flFfvozgUappY1MIRCPE5Cxc',\n",
       " 'project_id': 'project5-187402',\n",
       " 'redirect_uris': ['urn:ietf:wg:oauth:2.0:oob', 'http://localhost'],\n",
       " 'scope': ['https://www.googleapis.com/auth/youtube.readonly'],\n",
       " 'token_uri': 'https://accounts.google.com/o/oauth2/token'}"
      ]
     },
     "execution_count": 4,
     "metadata": {},
     "output_type": "execute_result"
    }
   ],
   "source": [
    "import keys\n",
    "importlib.reload(keys)\n",
    "keychain = keys.keychain\n",
    "client_id = keychain['youtube']['client_id']\n",
    "scope = keychain['youtube']['scope']\n",
    "redirect = keychain['youtube']['redirect_uris'][0]\n",
    "refresh_url = keychain['youtube']['token_uri']\n",
    "session = OAuth2Session(client_id, scope=scope, redirect_uri=redirect)\n",
    "keychain['youtube']"
   ]
  },
  {
   "cell_type": "code",
   "execution_count": 5,
   "metadata": {},
   "outputs": [],
   "source": [
    "def getData(data,vid,country):\n",
    "    if country != \"\" and \"CountryCode\" not in data:\n",
    "        data[\"CountryCode\"] = []\n",
    "    for item in vid:\n",
    "        data['videoId'].append(item['id'])\n",
    "        data['channelId'].append(item['snippet']['channelId'])\n",
    "        data['categoryId'].append(item['snippet']['categoryId'])\n",
    "        data['channelTitle'].append(item['snippet']['channelTitle'])\n",
    "        data['publishedAt'].append(item['snippet']['publishedAt'][11:13])\n",
    "        if country != \"\":\n",
    "            data['CountryCode'].append(country)\n",
    "    return data"
   ]
  },
  {
   "cell_type": "code",
   "execution_count": 18,
   "metadata": {},
   "outputs": [
    {
     "data": {
      "text/html": [
       "<div>\n",
       "<style>\n",
       "    .dataframe thead tr:only-child th {\n",
       "        text-align: right;\n",
       "    }\n",
       "\n",
       "    .dataframe thead th {\n",
       "        text-align: left;\n",
       "    }\n",
       "\n",
       "    .dataframe tbody tr th {\n",
       "        vertical-align: top;\n",
       "    }\n",
       "</style>\n",
       "<table border=\"1\" class=\"dataframe\">\n",
       "  <thead>\n",
       "    <tr style=\"text-align: right;\">\n",
       "      <th></th>\n",
       "      <th>categoryId</th>\n",
       "      <th>channelId</th>\n",
       "      <th>channelTitle</th>\n",
       "      <th>publishedAt</th>\n",
       "      <th>videoId</th>\n",
       "    </tr>\n",
       "  </thead>\n",
       "  <tbody>\n",
       "    <tr>\n",
       "      <th>0</th>\n",
       "      <td>10</td>\n",
       "      <td>UCGIelM2Dj3zza3xyV3pL3WQ</td>\n",
       "      <td>MigosVEVO</td>\n",
       "      <td>02</td>\n",
       "      <td>9v_rtaye2yY</td>\n",
       "    </tr>\n",
       "    <tr>\n",
       "      <th>1</th>\n",
       "      <td>24</td>\n",
       "      <td>UC0v-tlzsn0QZwJnkiaUSJVQ</td>\n",
       "      <td>FBE</td>\n",
       "      <td>22</td>\n",
       "      <td>fuHcdFPBKy0</td>\n",
       "    </tr>\n",
       "    <tr>\n",
       "      <th>2</th>\n",
       "      <td>26</td>\n",
       "      <td>UCjwmbv6NE4mOh8Z8VhPUx1Q</td>\n",
       "      <td>Rosanna Pansino</td>\n",
       "      <td>15</td>\n",
       "      <td>6i2cebTn0nc</td>\n",
       "    </tr>\n",
       "    <tr>\n",
       "      <th>3</th>\n",
       "      <td>24</td>\n",
       "      <td>UCq0OueAsdxH6b8nyAspwViw</td>\n",
       "      <td>Universal Pictures</td>\n",
       "      <td>01</td>\n",
       "      <td>vn9mMeWcgoM</td>\n",
       "    </tr>\n",
       "    <tr>\n",
       "      <th>4</th>\n",
       "      <td>24</td>\n",
       "      <td>UCMtFAi84ehTSYSE9XoHefig</td>\n",
       "      <td>The Late Show with Stephen Colbert</td>\n",
       "      <td>08</td>\n",
       "      <td>00nmxR1mxIA</td>\n",
       "    </tr>\n",
       "    <tr>\n",
       "      <th>5</th>\n",
       "      <td>24</td>\n",
       "      <td>UCSAUGyc_xA8uYzaIVG6MESQ</td>\n",
       "      <td>nigahiga</td>\n",
       "      <td>19</td>\n",
       "      <td>JBDWIGpKnwM</td>\n",
       "    </tr>\n",
       "    <tr>\n",
       "      <th>6</th>\n",
       "      <td>23</td>\n",
       "      <td>UCQG4cX86zZ51IU2cerZgPSA</td>\n",
       "      <td>Awkward Puppets</td>\n",
       "      <td>17</td>\n",
       "      <td>bo8OYPYRTIY</td>\n",
       "    </tr>\n",
       "    <tr>\n",
       "      <th>7</th>\n",
       "      <td>24</td>\n",
       "      <td>UCWOA1ZGywLbqmigxE4Qlvuw</td>\n",
       "      <td>Netflix</td>\n",
       "      <td>21</td>\n",
       "      <td>QK_iX5cPDhE</td>\n",
       "    </tr>\n",
       "    <tr>\n",
       "      <th>8</th>\n",
       "      <td>1</td>\n",
       "      <td>UC2-BeLxzUBSs0uSrmzWhJuQ</td>\n",
       "      <td>20th Century Fox</td>\n",
       "      <td>19</td>\n",
       "      <td>aj8mN_7Apcw</td>\n",
       "    </tr>\n",
       "    <tr>\n",
       "      <th>9</th>\n",
       "      <td>26</td>\n",
       "      <td>UCckETVOT59aYw80B36aP9vw</td>\n",
       "      <td>Matthias Wandel</td>\n",
       "      <td>12</td>\n",
       "      <td>iGXYZwZEZa0</td>\n",
       "    </tr>\n",
       "  </tbody>\n",
       "</table>\n",
       "</div>"
      ],
      "text/plain": [
       "  categoryId                 channelId                        channelTitle  \\\n",
       "0         10  UCGIelM2Dj3zza3xyV3pL3WQ                           MigosVEVO   \n",
       "1         24  UC0v-tlzsn0QZwJnkiaUSJVQ                                 FBE   \n",
       "2         26  UCjwmbv6NE4mOh8Z8VhPUx1Q                     Rosanna Pansino   \n",
       "3         24  UCq0OueAsdxH6b8nyAspwViw                  Universal Pictures   \n",
       "4         24  UCMtFAi84ehTSYSE9XoHefig  The Late Show with Stephen Colbert   \n",
       "5         24  UCSAUGyc_xA8uYzaIVG6MESQ                            nigahiga   \n",
       "6         23  UCQG4cX86zZ51IU2cerZgPSA                     Awkward Puppets   \n",
       "7         24  UCWOA1ZGywLbqmigxE4Qlvuw                             Netflix   \n",
       "8          1  UC2-BeLxzUBSs0uSrmzWhJuQ                    20th Century Fox   \n",
       "9         26  UCckETVOT59aYw80B36aP9vw                     Matthias Wandel   \n",
       "\n",
       "  publishedAt      videoId  \n",
       "0          02  9v_rtaye2yY  \n",
       "1          22  fuHcdFPBKy0  \n",
       "2          15  6i2cebTn0nc  \n",
       "3          01  vn9mMeWcgoM  \n",
       "4          08  00nmxR1mxIA  \n",
       "5          19  JBDWIGpKnwM  \n",
       "6          17  bo8OYPYRTIY  \n",
       "7          21  QK_iX5cPDhE  \n",
       "8          19  aj8mN_7Apcw  \n",
       "9          12  iGXYZwZEZa0  "
      ]
     },
     "execution_count": 18,
     "metadata": {},
     "output_type": "execute_result"
    }
   ],
   "source": [
    "def vid_by_country(token,country=\"\"):\n",
    "    D={}\n",
    "    D['access_token'] = token['access_token']\n",
    "    D['part'] = ['snippet,contentDetails,statistics']\n",
    "    D['maxResults'] = '50'\n",
    "    D['chart'] ='mostPopular'\n",
    "    D['PageToken'] = 'CAUQAA'\n",
    "    if country != \"\":\n",
    "        D[\"regionCode\"] = country\n",
    "    url ='https://www.googleapis.com/youtube/v3/videos'\n",
    "    popular_vid = requests.get(url, params = D)\n",
    "    popular_vid = popular_vid.json()\n",
    "    \n",
    "    page = []\n",
    "    data = {'videoId':[], 'channelId':[],'categoryId':[] ,'channelTitle':[], 'publishedAt':[]}\n",
    "    for i in range(10):\n",
    "        if 'nextPageToken' not in popular_vid:\n",
    "            next_page = 'CAUQAA'\n",
    "        else:\n",
    "            next_page = popular_vid['nextPageToken']\n",
    "        page.append(next_page)\n",
    "        D['PageToken'] = next_page\n",
    "        popular_vid = requests.get(url, params = D)\n",
    "        popular_vid = popular_vid.json()\n",
    "        getData(data,popular_vid['items'],country)\n",
    "        \n",
    "    df= pd.DataFrame(data)\n",
    "    return df\n",
    "\n",
    "df_global = vid_by_country(token)\n",
    "df_global.to_csv('df_global.csv')\n",
    "df_global[:10]"
   ]
  },
  {
   "cell_type": "code",
   "execution_count": null,
   "metadata": {
    "collapsed": true
   },
   "outputs": [],
   "source": [
    "df_US = vid_by_country(token,\"US\")\n",
    "df_US.to_csv('df_US.csv')"
   ]
  },
  {
   "cell_type": "code",
   "execution_count": null,
   "metadata": {
    "collapsed": true
   },
   "outputs": [],
   "source": [
    "df_France = vid_by_country(token,'FR')\n",
    "df_France.to_csv('df_France.csv')"
   ]
  },
  {
   "cell_type": "code",
   "execution_count": null,
   "metadata": {
    "collapsed": true
   },
   "outputs": [],
   "source": [
    "df_GB = vid_by_country(token,'GB')\n",
    "df_GB.to_csv('df_GB.csv')"
   ]
  },
  {
   "cell_type": "code",
   "execution_count": null,
   "metadata": {
    "collapsed": true
   },
   "outputs": [],
   "source": [
    "df_Spain = vid_by_country(token,\"ES\")\n",
    "df_Spain.to_csv('df_Spain.csv')"
   ]
  },
  {
   "cell_type": "code",
   "execution_count": 19,
   "metadata": {},
   "outputs": [],
   "source": [
    "# D={}\n",
    "# D['access_token'] = token['access_token']\n",
    "# D['part'] = ['snippet,contentDetails,statistics']\n",
    "# D['maxResults'] = '50'\n",
    "# D['chart'] ='mostPopular'\n",
    "# D['PageToken'] = 'CAUQAA'\n",
    "# D['regionCode'] = 'FR'\n",
    "# url ='https://www.googleapis.com/youtube/v3/videos'\n",
    "# popular_vid = requests.get(url, params = D)\n",
    "# popular_vid = popular_vid.json()\n",
    "\n",
    "# data = {'videoId':[], 'channelId':[],'categoryId':[] ,'channelTitle':[], 'publishedAt':[]}\n",
    "# getData(data,popular_vid['items'],'FR')\n",
    "# df = pd.DataFrame(data)\n",
    "# df"
   ]
  },
  {
   "cell_type": "code",
   "execution_count": 20,
   "metadata": {
    "collapsed": true
   },
   "outputs": [],
   "source": [
    "url = 'https://www.googleapis.com/youtube/v3/videoCategories'\n",
    "C = {}\n",
    "C['access_token'] = token['access_token']\n",
    "C['part'] = 'snippet'\n",
    "C['regionCode'] = 'US'\n",
    "category_vid = requests.get(url, params = C)\n",
    "category_vid = category_vid.json()"
   ]
  },
  {
   "cell_type": "code",
   "execution_count": 21,
   "metadata": {},
   "outputs": [
    {
     "data": {
      "text/html": [
       "<div>\n",
       "<style>\n",
       "    .dataframe thead tr:only-child th {\n",
       "        text-align: right;\n",
       "    }\n",
       "\n",
       "    .dataframe thead th {\n",
       "        text-align: left;\n",
       "    }\n",
       "\n",
       "    .dataframe tbody tr th {\n",
       "        vertical-align: top;\n",
       "    }\n",
       "</style>\n",
       "<table border=\"1\" class=\"dataframe\">\n",
       "  <thead>\n",
       "    <tr style=\"text-align: right;\">\n",
       "      <th></th>\n",
       "      <th>id</th>\n",
       "      <th>title</th>\n",
       "    </tr>\n",
       "  </thead>\n",
       "  <tbody>\n",
       "    <tr>\n",
       "      <th>0</th>\n",
       "      <td>1</td>\n",
       "      <td>Film &amp; Animation</td>\n",
       "    </tr>\n",
       "    <tr>\n",
       "      <th>1</th>\n",
       "      <td>2</td>\n",
       "      <td>Autos &amp; Vehicles</td>\n",
       "    </tr>\n",
       "    <tr>\n",
       "      <th>2</th>\n",
       "      <td>10</td>\n",
       "      <td>Music</td>\n",
       "    </tr>\n",
       "    <tr>\n",
       "      <th>3</th>\n",
       "      <td>15</td>\n",
       "      <td>Pets &amp; Animals</td>\n",
       "    </tr>\n",
       "    <tr>\n",
       "      <th>4</th>\n",
       "      <td>17</td>\n",
       "      <td>Sports</td>\n",
       "    </tr>\n",
       "    <tr>\n",
       "      <th>5</th>\n",
       "      <td>18</td>\n",
       "      <td>Short Movies</td>\n",
       "    </tr>\n",
       "    <tr>\n",
       "      <th>6</th>\n",
       "      <td>19</td>\n",
       "      <td>Travel &amp; Events</td>\n",
       "    </tr>\n",
       "    <tr>\n",
       "      <th>7</th>\n",
       "      <td>20</td>\n",
       "      <td>Gaming</td>\n",
       "    </tr>\n",
       "    <tr>\n",
       "      <th>8</th>\n",
       "      <td>21</td>\n",
       "      <td>Videoblogging</td>\n",
       "    </tr>\n",
       "    <tr>\n",
       "      <th>9</th>\n",
       "      <td>22</td>\n",
       "      <td>People &amp; Blogs</td>\n",
       "    </tr>\n",
       "  </tbody>\n",
       "</table>\n",
       "</div>"
      ],
      "text/plain": [
       "   id             title\n",
       "0   1  Film & Animation\n",
       "1   2  Autos & Vehicles\n",
       "2  10             Music\n",
       "3  15    Pets & Animals\n",
       "4  17            Sports\n",
       "5  18      Short Movies\n",
       "6  19   Travel & Events\n",
       "7  20            Gaming\n",
       "8  21     Videoblogging\n",
       "9  22    People & Blogs"
      ]
     },
     "execution_count": 21,
     "metadata": {},
     "output_type": "execute_result"
    }
   ],
   "source": [
    "data_category = {'id':[],'title':[]}\n",
    "def categoryTable(data,json):\n",
    "    for item in json:\n",
    "        data['id'].append(item['id'])\n",
    "        data['title'].append(item['snippet']['title'])\n",
    "categoryTable(data_category,category_vid['items'])\n",
    "df1 = pd.DataFrame(data_category)\n",
    "df1[:10]"
   ]
  },
  {
   "cell_type": "code",
   "execution_count": 22,
   "metadata": {},
   "outputs": [],
   "source": [
    "result = pd.merge(df_global, df1, left_on='categoryId', right_on='id')\n",
    "result.to_csv('result.csv')"
   ]
  },
  {
   "cell_type": "code",
   "execution_count": 23,
   "metadata": {
    "collapsed": true
   },
   "outputs": [],
   "source": [
    "token = session.refresh_token(refresh_url, \n",
    "                             client_id=keychain['youtube']['client_id'],\n",
    "                             client_secret=keychain['youtube']['client_secret'],\n",
    "                             refresh_token=token['refresh_token'])"
   ]
  }
 ],
 "metadata": {
  "kernelspec": {
   "display_name": "Python 3",
   "language": "python",
   "name": "python3"
  },
  "language_info": {
   "codemirror_mode": {
    "name": "ipython",
    "version": 3
   },
   "file_extension": ".py",
   "mimetype": "text/x-python",
   "name": "python",
   "nbconvert_exporter": "python",
   "pygments_lexer": "ipython3",
   "version": "3.6.1"
  }
 },
 "nbformat": 4,
 "nbformat_minor": 2
}
