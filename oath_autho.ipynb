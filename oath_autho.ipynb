{
 "cells": [
  {
   "cell_type": "code",
   "execution_count": 1,
   "metadata": {},
   "outputs": [
    {
     "name": "stdout",
     "output_type": "stream",
     "text": [
      "126920892433-e58m7pn ['https://www.googleapis.com/auth/youtube.readonly'] urn:ietf:wg:oauth:2.0:oob\n"
     ]
    }
   ],
   "source": [
    "import importlib\n",
    "import keys\n",
    "importlib.reload(keys)\n",
    "import json\n",
    "import pprint\n",
    "keychain = keys.keychain\n",
    "\n",
    "pp = pprint.PrettyPrinter(indent=2)\n",
    "\n",
    "client_id = keychain['youtube']['client_id']\n",
    "scope = keychain['youtube']['scope']\n",
    "redirect = keychain['youtube']['redirect_uris'][0]\n",
    "print(client_id[:20], scope, redirect)"
   ]
  },
  {
   "cell_type": "code",
   "execution_count": 2,
   "metadata": {
    "collapsed": true
   },
   "outputs": [],
   "source": [
    "from requests_oauthlib import OAuth2Session"
   ]
  },
  {
   "cell_type": "code",
   "execution_count": 3,
   "metadata": {},
   "outputs": [
    {
     "name": "stdout",
     "output_type": "stream",
     "text": [
      "https://accounts.google.com/o/oauth2/auth?response_type=code&client_id=126920892433-e58m7pn87600743drvlsjsanlcsus2av.apps.googleusercontent.com&redirect_uri=urn%3Aietf%3Awg%3Aoauth%3A2.0%3Aoob&scope=https%3A%2F%2Fwww.googleapis.com%2Fauth%2Fyoutube.readonly&state=jzRFfldEfcEtXyinc0vCByd6qeYuZQ&access_type=offline&include_granted_scopes=true\n"
     ]
    }
   ],
   "source": [
    "session = OAuth2Session(client_id, scope=scope, redirect_uri=redirect)\n",
    "auth_url, state = session.authorization_url(keychain['youtube']['auth_uri'],access_type='offline',include_granted_scopes='true')\n",
    "print(auth_url)"
   ]
  },
  {
   "cell_type": "code",
   "execution_count": 4,
   "metadata": {},
   "outputs": [
    {
     "data": {
      "text/plain": [
       "True"
      ]
     },
     "execution_count": 4,
     "metadata": {},
     "output_type": "execute_result"
    }
   ],
   "source": [
    "import webbrowser\n",
    "webbrowser.open(auth_url)"
   ]
  },
  {
   "cell_type": "code",
   "execution_count": 5,
   "metadata": {
    "collapsed": true
   },
   "outputs": [],
   "source": [
    "code = '4/Ti769qcLFSUBbCDU9dugj5EorHwFhcS9hPXGNIkVv70'"
   ]
  },
  {
   "cell_type": "code",
   "execution_count": 6,
   "metadata": {
    "collapsed": true
   },
   "outputs": [],
   "source": [
    "token = session.fetch_token(keychain['youtube']['token_uri'],\n",
    "                            code=code,\n",
    "                            client_secret=keychain['youtube']['client_secret'])  "
   ]
  },
  {
   "cell_type": "code",
   "execution_count": 7,
   "metadata": {},
   "outputs": [
    {
     "name": "stdout",
     "output_type": "stream",
     "text": [
      "{'access_token': 'ya29.GlsbBS4zRWAXYJDYdpkxaZ77Xlr7mzw9z0uP59HWRw4B3jtzTRywqD9TtP81jsXFHmJ8kQlbHVvvHcF_DjiQo-piPnCAXPC_ePmhov48gg4jJ8DbjY-yg9PrC_eH', 'expires_in': 3600, 'refresh_token': '1/TJu4hZZeRWCYP9s3lERdkoorXY-nrWb1rFmEbCTvuMECXnp4xdpH4MRBPygubbs_', 'token_type': 'Bearer', 'expires_at': 1512692265.1297445}\n"
     ]
    }
   ],
   "source": [
    "print(token)"
   ]
  },
  {
   "cell_type": "code",
   "execution_count": 8,
   "metadata": {
    "collapsed": true
   },
   "outputs": [],
   "source": [
    "import json\n",
    "with open('token.json', 'w') as outfile:\n",
    "    json.dump(token, outfile)"
   ]
  },
  {
   "cell_type": "code",
   "execution_count": 9,
   "metadata": {},
   "outputs": [
    {
     "data": {
      "text/plain": [
       "'{\"access_token\": \"ya29.GlsbBS4zRWAXYJDYdpkxaZ77Xlr7mzw9z0uP59HWRw4B3jtzTRywqD9TtP81jsXFHmJ8kQlbHVvvHcF_DjiQo-piPnCAXPC_ePmhov48gg4jJ8DbjY-yg9PrC_eH\", \"expires_in\": 3600, \"refresh_token\": \"1/TJu4hZZeRWCYP9s3lERdkoorXY-nrWb1rFmEbCTvuMECXnp4xdpH4MRBPygubbs_\", \"token_type\": \"Bearer\", \"expires_at\": 1512692265.1297445}'"
      ]
     },
     "execution_count": 9,
     "metadata": {},
     "output_type": "execute_result"
    }
   ],
   "source": [
    "token=open('token.json',mode='r')\n",
    "token=token.read()\n",
    "token"
   ]
  },
  {
   "cell_type": "code",
   "execution_count": 10,
   "metadata": {},
   "outputs": [
    {
     "data": {
      "text/plain": [
       "{'access_token': 'ya29.GlsbBS4zRWAXYJDYdpkxaZ77Xlr7mzw9z0uP59HWRw4B3jtzTRywqD9TtP81jsXFHmJ8kQlbHVvvHcF_DjiQo-piPnCAXPC_ePmhov48gg4jJ8DbjY-yg9PrC_eH',\n",
       " 'expires_at': 1512692265.1297445,\n",
       " 'expires_in': 3600,\n",
       " 'refresh_token': '1/TJu4hZZeRWCYP9s3lERdkoorXY-nrWb1rFmEbCTvuMECXnp4xdpH4MRBPygubbs_',\n",
       " 'token_type': 'Bearer'}"
      ]
     },
     "execution_count": 10,
     "metadata": {},
     "output_type": "execute_result"
    }
   ],
   "source": [
    "token=json.loads(token)\n",
    "token"
   ]
  },
  {
   "cell_type": "code",
   "execution_count": 11,
   "metadata": {},
   "outputs": [
    {
     "data": {
      "text/plain": [
       "{'auth_provider_x509_cert_url': 'https://www.googleapis.com/oauth2/v1/certs',\n",
       " 'auth_uri': 'https://accounts.google.com/o/oauth2/auth',\n",
       " 'client_id': '126920892433-e58m7pn87600743drvlsjsanlcsus2av.apps.googleusercontent.com',\n",
       " 'client_secret': 'flFfvozgUappY1MIRCPE5Cxc',\n",
       " 'project_id': 'project5-187402',\n",
       " 'redirect_uris': ['urn:ietf:wg:oauth:2.0:oob', 'http://localhost'],\n",
       " 'scope': ['https://www.googleapis.com/auth/youtube.readonly'],\n",
       " 'token_uri': 'https://accounts.google.com/o/oauth2/token'}"
      ]
     },
     "execution_count": 11,
     "metadata": {},
     "output_type": "execute_result"
    }
   ],
   "source": [
    "importlib.reload(keys)\n",
    "keychain = keys.keychain\n",
    "keychain['youtube']"
   ]
  },
  {
   "cell_type": "code",
   "execution_count": 12,
   "metadata": {
    "collapsed": true
   },
   "outputs": [],
   "source": [
    "import requests\n",
    "import pandas as pd\n",
    "from xml.etree import ElementTree as ET\n",
    "import io\n",
    "D = {}\n",
    "D['access_token'] = token['access_token']"
   ]
  },
  {
   "cell_type": "code",
   "execution_count": 13,
   "metadata": {
    "collapsed": true
   },
   "outputs": [],
   "source": [
    "data = {'videoId':[], 'channelId':[],'categoryId':[] ,'channelTitle':[], 'publishedAt':[]}\n",
    "def getData(data,vid):\n",
    "    for item in vid:\n",
    "        data['videoId'].append(item['id'])\n",
    "        data['channelId'].append(item['snippet']['channelId'])\n",
    "        data['categoryId'].append(item['snippet']['categoryId'])\n",
    "        data['channelTitle'].append(item['snippet']['channelTitle'])\n",
    "        data['publishedAt'].append(item['snippet']['publishedAt'])"
   ]
  },
  {
   "cell_type": "code",
   "execution_count": 14,
   "metadata": {
    "collapsed": true
   },
   "outputs": [],
   "source": [
    "url ='https://www.googleapis.com/youtube/v3/videos'\n",
    "D['part'] = ['snippet,contentDetails,statistics']\n",
    "D['maxResults'] = '50'\n",
    "D['chart'] ='mostPopular'\n",
    "popular_vid = requests.get(url, params = D)\n",
    "popular_vid = popular_vid.json()"
   ]
  },
  {
   "cell_type": "code",
   "execution_count": 15,
   "metadata": {},
   "outputs": [
    {
     "data": {
      "text/html": [
       "<div>\n",
       "<style>\n",
       "    .dataframe thead tr:only-child th {\n",
       "        text-align: right;\n",
       "    }\n",
       "\n",
       "    .dataframe thead th {\n",
       "        text-align: left;\n",
       "    }\n",
       "\n",
       "    .dataframe tbody tr th {\n",
       "        vertical-align: top;\n",
       "    }\n",
       "</style>\n",
       "<table border=\"1\" class=\"dataframe\">\n",
       "  <thead>\n",
       "    <tr style=\"text-align: right;\">\n",
       "      <th></th>\n",
       "      <th>categoryId</th>\n",
       "      <th>channelId</th>\n",
       "      <th>channelTitle</th>\n",
       "      <th>publishedAt</th>\n",
       "      <th>videoId</th>\n",
       "    </tr>\n",
       "  </thead>\n",
       "  <tbody>\n",
       "    <tr>\n",
       "      <th>0</th>\n",
       "      <td>22</td>\n",
       "      <td>UCGaVdbSav8xWuFWTadK6loA</td>\n",
       "      <td>vlogbrothers</td>\n",
       "      <td>2017-12-05T23:16:00.000Z</td>\n",
       "      <td>Rjv1NlMiUyI</td>\n",
       "    </tr>\n",
       "    <tr>\n",
       "      <th>1</th>\n",
       "      <td>25</td>\n",
       "      <td>UCqnbDFdCpuN8CMEg0VuEBqA</td>\n",
       "      <td>The New York Times</td>\n",
       "      <td>2017-12-06T02:30:01.000Z</td>\n",
       "      <td>Hi91aDmYI2E</td>\n",
       "    </tr>\n",
       "    <tr>\n",
       "      <th>2</th>\n",
       "      <td>24</td>\n",
       "      <td>UCSV8iMrDMdzc79kPCS9qucg</td>\n",
       "      <td>The Talk</td>\n",
       "      <td>2017-12-05T22:00:00.000Z</td>\n",
       "      <td>032BPsxhreM</td>\n",
       "    </tr>\n",
       "    <tr>\n",
       "      <th>3</th>\n",
       "      <td>25</td>\n",
       "      <td>UCkH1uDkyuO9sVjSqdqBygOg</td>\n",
       "      <td>CBS Los Angeles</td>\n",
       "      <td>2017-12-06T01:29:41.000Z</td>\n",
       "      <td>UZf9m_x7o88</td>\n",
       "    </tr>\n",
       "    <tr>\n",
       "      <th>4</th>\n",
       "      <td>26</td>\n",
       "      <td>UCbpMy0Fg74eXXkvxJrtEn3w</td>\n",
       "      <td>Bon Appétit</td>\n",
       "      <td>2017-12-06T17:01:10.000Z</td>\n",
       "      <td>vgX5M1eVhyw</td>\n",
       "    </tr>\n",
       "    <tr>\n",
       "      <th>5</th>\n",
       "      <td>25</td>\n",
       "      <td>UCIRYBXDze5krPDzAEOxFGVA</td>\n",
       "      <td>Guardian News</td>\n",
       "      <td>2017-12-05T19:35:27.000Z</td>\n",
       "      <td>sciODVQP43w</td>\n",
       "    </tr>\n",
       "    <tr>\n",
       "      <th>6</th>\n",
       "      <td>24</td>\n",
       "      <td>UCZ1Sc5xjWpUnp_o_lUTkvgQ</td>\n",
       "      <td>The Grand Tour</td>\n",
       "      <td>2017-12-06T12:58:36.000Z</td>\n",
       "      <td>aJ9XruZm_Hg</td>\n",
       "    </tr>\n",
       "    <tr>\n",
       "      <th>7</th>\n",
       "      <td>22</td>\n",
       "      <td>UCIiBf-JbtCazHSFqXV4JgoA</td>\n",
       "      <td>Grace Helbig</td>\n",
       "      <td>2017-12-05T20:00:04.000Z</td>\n",
       "      <td>v_CMMWCN5nQ</td>\n",
       "    </tr>\n",
       "    <tr>\n",
       "      <th>8</th>\n",
       "      <td>25</td>\n",
       "      <td>UCY0YIply-je0EhSWLgpftVw</td>\n",
       "      <td>Beme News</td>\n",
       "      <td>2017-12-06T22:00:01.000Z</td>\n",
       "      <td>NbUtY1RVvn8</td>\n",
       "    </tr>\n",
       "    <tr>\n",
       "      <th>9</th>\n",
       "      <td>24</td>\n",
       "      <td>UCPWQWav6BpPvtanCtloXkiw</td>\n",
       "      <td>The CW Television Network</td>\n",
       "      <td>2017-12-07T06:00:01.000Z</td>\n",
       "      <td>xkYpO9ATUT0</td>\n",
       "    </tr>\n",
       "  </tbody>\n",
       "</table>\n",
       "</div>"
      ],
      "text/plain": [
       "  categoryId                 channelId               channelTitle  \\\n",
       "0         22  UCGaVdbSav8xWuFWTadK6loA               vlogbrothers   \n",
       "1         25  UCqnbDFdCpuN8CMEg0VuEBqA         The New York Times   \n",
       "2         24  UCSV8iMrDMdzc79kPCS9qucg                   The Talk   \n",
       "3         25  UCkH1uDkyuO9sVjSqdqBygOg            CBS Los Angeles   \n",
       "4         26  UCbpMy0Fg74eXXkvxJrtEn3w                Bon Appétit   \n",
       "5         25  UCIRYBXDze5krPDzAEOxFGVA              Guardian News   \n",
       "6         24  UCZ1Sc5xjWpUnp_o_lUTkvgQ             The Grand Tour   \n",
       "7         22  UCIiBf-JbtCazHSFqXV4JgoA               Grace Helbig   \n",
       "8         25  UCY0YIply-je0EhSWLgpftVw                  Beme News   \n",
       "9         24  UCPWQWav6BpPvtanCtloXkiw  The CW Television Network   \n",
       "\n",
       "                publishedAt      videoId  \n",
       "0  2017-12-05T23:16:00.000Z  Rjv1NlMiUyI  \n",
       "1  2017-12-06T02:30:01.000Z  Hi91aDmYI2E  \n",
       "2  2017-12-05T22:00:00.000Z  032BPsxhreM  \n",
       "3  2017-12-06T01:29:41.000Z  UZf9m_x7o88  \n",
       "4  2017-12-06T17:01:10.000Z  vgX5M1eVhyw  \n",
       "5  2017-12-05T19:35:27.000Z  sciODVQP43w  \n",
       "6  2017-12-06T12:58:36.000Z  aJ9XruZm_Hg  \n",
       "7  2017-12-05T20:00:04.000Z  v_CMMWCN5nQ  \n",
       "8  2017-12-06T22:00:01.000Z  NbUtY1RVvn8  \n",
       "9  2017-12-07T06:00:01.000Z  xkYpO9ATUT0  "
      ]
     },
     "execution_count": 15,
     "metadata": {},
     "output_type": "execute_result"
    }
   ],
   "source": [
    "page = []\n",
    "data = {'videoId':[], 'channelId':[],'categoryId':[] ,'channelTitle':[], 'publishedAt':[]}\n",
    "for i in range(20):\n",
    "    if 'nextPageToken' not in popular_vid:\n",
    "        nex_page = 'CAUQAA'\n",
    "    else:\n",
    "        next_page = popular_vid['nextPageToken']\n",
    "    page.append(next_page)\n",
    "    D['pageToken'] = next_page\n",
    "    popular_vid = requests.get(url, params = D)\n",
    "    popular_vid = popular_vid.json()\n",
    "    getData(data,popular_vid['items'])\n",
    "df= pd.DataFrame(data)\n",
    "df[:10]"
   ]
  },
  {
   "cell_type": "code",
   "execution_count": 16,
   "metadata": {
    "collapsed": true
   },
   "outputs": [],
   "source": [
    "url = 'https://www.googleapis.com/youtube/v3/videoCategories'\n",
    "C = {}\n",
    "C['access_token'] = token['access_token']\n",
    "C['part'] = 'snippet'\n",
    "C['regionCode'] = 'US'\n",
    "category_vid = requests.get(url, params = C)\n",
    "category_vid = category_vid.json()"
   ]
  },
  {
   "cell_type": "code",
   "execution_count": 17,
   "metadata": {},
   "outputs": [
    {
     "data": {
      "text/html": [
       "<div>\n",
       "<style>\n",
       "    .dataframe thead tr:only-child th {\n",
       "        text-align: right;\n",
       "    }\n",
       "\n",
       "    .dataframe thead th {\n",
       "        text-align: left;\n",
       "    }\n",
       "\n",
       "    .dataframe tbody tr th {\n",
       "        vertical-align: top;\n",
       "    }\n",
       "</style>\n",
       "<table border=\"1\" class=\"dataframe\">\n",
       "  <thead>\n",
       "    <tr style=\"text-align: right;\">\n",
       "      <th></th>\n",
       "      <th>id</th>\n",
       "      <th>title</th>\n",
       "    </tr>\n",
       "  </thead>\n",
       "  <tbody>\n",
       "    <tr>\n",
       "      <th>0</th>\n",
       "      <td>1</td>\n",
       "      <td>Film &amp; Animation</td>\n",
       "    </tr>\n",
       "    <tr>\n",
       "      <th>1</th>\n",
       "      <td>2</td>\n",
       "      <td>Autos &amp; Vehicles</td>\n",
       "    </tr>\n",
       "    <tr>\n",
       "      <th>2</th>\n",
       "      <td>10</td>\n",
       "      <td>Music</td>\n",
       "    </tr>\n",
       "    <tr>\n",
       "      <th>3</th>\n",
       "      <td>15</td>\n",
       "      <td>Pets &amp; Animals</td>\n",
       "    </tr>\n",
       "    <tr>\n",
       "      <th>4</th>\n",
       "      <td>17</td>\n",
       "      <td>Sports</td>\n",
       "    </tr>\n",
       "    <tr>\n",
       "      <th>5</th>\n",
       "      <td>18</td>\n",
       "      <td>Short Movies</td>\n",
       "    </tr>\n",
       "    <tr>\n",
       "      <th>6</th>\n",
       "      <td>19</td>\n",
       "      <td>Travel &amp; Events</td>\n",
       "    </tr>\n",
       "    <tr>\n",
       "      <th>7</th>\n",
       "      <td>20</td>\n",
       "      <td>Gaming</td>\n",
       "    </tr>\n",
       "    <tr>\n",
       "      <th>8</th>\n",
       "      <td>21</td>\n",
       "      <td>Videoblogging</td>\n",
       "    </tr>\n",
       "    <tr>\n",
       "      <th>9</th>\n",
       "      <td>22</td>\n",
       "      <td>People &amp; Blogs</td>\n",
       "    </tr>\n",
       "  </tbody>\n",
       "</table>\n",
       "</div>"
      ],
      "text/plain": [
       "   id             title\n",
       "0   1  Film & Animation\n",
       "1   2  Autos & Vehicles\n",
       "2  10             Music\n",
       "3  15    Pets & Animals\n",
       "4  17            Sports\n",
       "5  18      Short Movies\n",
       "6  19   Travel & Events\n",
       "7  20            Gaming\n",
       "8  21     Videoblogging\n",
       "9  22    People & Blogs"
      ]
     },
     "execution_count": 17,
     "metadata": {},
     "output_type": "execute_result"
    }
   ],
   "source": [
    "data_category = {'id':[],'title':[]}\n",
    "def categoryTable(data,json):\n",
    "    for item in json:\n",
    "        data['id'].append(item['id'])\n",
    "        data['title'].append(item['snippet']['title'])\n",
    "categoryTable(data_category,category_vid['items'])\n",
    "df1 = pd.DataFrame(data_category)\n",
    "df1[:10]"
   ]
  },
  {
   "cell_type": "code",
   "execution_count": 18,
   "metadata": {
    "collapsed": true
   },
   "outputs": [],
   "source": [
    "result = pd.merge(df, df1, left_on='categoryId', right_on='id')\n",
    "result.to_csv('result.csv')"
   ]
  },
  {
   "cell_type": "code",
   "execution_count": 19,
   "metadata": {
    "collapsed": true
   },
   "outputs": [],
   "source": [
    "refresh_url = keychain['youtube']['token_uri']\n",
    "token = session.refresh_token(refresh_url, \n",
    "                             client_id=keychain['youtube']['client_id'],\n",
    "                             client_secret=keychain['youtube']['client_secret'])"
   ]
  },
  {
   "cell_type": "code",
   "execution_count": 20,
   "metadata": {},
   "outputs": [
    {
     "name": "stdout",
     "output_type": "stream",
     "text": [
      "{'access_token': 'ya29.GlsbBXO6vHqp7Virt1WSE7lx1tzOZA8fpsbjdth5uMxKbRB-aYO64dHLnNxwn-sqaE9T394h6onER-8bhwiT6YxaQarJ4JhAvFguImSTumhg6qO5KZmLISHDeNwk', 'expires_in': 3600, 'token_type': 'Bearer', 'expires_at': 1512692336.888527, 'refresh_token': '1/TJu4hZZeRWCYP9s3lERdkoorXY-nrWb1rFmEbCTvuMECXnp4xdpH4MRBPygubbs_'}\n"
     ]
    }
   ],
   "source": [
    "print(token)"
   ]
  },
  {
   "cell_type": "code",
   "execution_count": null,
   "metadata": {
    "collapsed": true
   },
   "outputs": [],
   "source": []
  }
 ],
 "metadata": {
  "kernelspec": {
   "display_name": "Python 3",
   "language": "python",
   "name": "python3"
  },
  "language_info": {
   "codemirror_mode": {
    "name": "ipython",
    "version": 3
   },
   "file_extension": ".py",
   "mimetype": "text/x-python",
   "name": "python",
   "nbconvert_exporter": "python",
   "pygments_lexer": "ipython3",
   "version": "3.6.2"
  }
 },
 "nbformat": 4,
 "nbformat_minor": 2
}
