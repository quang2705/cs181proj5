{
 "cells": [
  {
   "cell_type": "code",
   "execution_count": 1,
   "metadata": {},
   "outputs": [
    {
     "name": "stdout",
     "output_type": "stream",
     "text": [
      "126920892433-e58m7pn ['https://www.googleapis.com/auth/youtube.readonly'] urn:ietf:wg:oauth:2.0:oob\n"
     ]
    }
   ],
   "source": [
    "import importlib\n",
    "import keys\n",
    "importlib.reload(keys)\n",
    "import json\n",
    "import pprint\n",
    "keychain = keys.keychain\n",
    "\n",
    "pp = pprint.PrettyPrinter(indent=2)\n",
    "\n",
    "client_id = keychain['youtube']['client_id']\n",
    "scope = keychain['youtube']['scope']\n",
    "redirect = keychain['youtube']['redirect_uris'][0]\n",
    "print(client_id[:20], scope, redirect)"
   ]
  },
  {
   "cell_type": "code",
   "execution_count": 2,
   "metadata": {
    "collapsed": true
   },
   "outputs": [],
   "source": [
    "from requests_oauthlib import OAuth2Session"
   ]
  },
  {
   "cell_type": "code",
   "execution_count": 3,
   "metadata": {},
   "outputs": [
    {
     "name": "stdout",
     "output_type": "stream",
     "text": [
      "https://accounts.google.com/o/oauth2/auth?response_type=code&client_id=126920892433-e58m7pn87600743drvlsjsanlcsus2av.apps.googleusercontent.com&redirect_uri=urn%3Aietf%3Awg%3Aoauth%3A2.0%3Aoob&scope=https%3A%2F%2Fwww.googleapis.com%2Fauth%2Fyoutube.readonly&state=Vlxtl2oHVOPlCiC8YdmXRh269FoTp0&access_type=offline&include_granted_scopes=true\n"
     ]
    }
   ],
   "source": [
    "session = OAuth2Session(client_id, scope=scope, redirect_uri=redirect)\n",
    "auth_url, state = session.authorization_url(keychain['youtube']['auth_uri'],access_type='offline',include_granted_scopes='true')\n",
    "print(auth_url)"
   ]
  },
  {
   "cell_type": "code",
   "execution_count": 4,
   "metadata": {},
   "outputs": [
    {
     "data": {
      "text/plain": [
       "True"
      ]
     },
     "execution_count": 4,
     "metadata": {},
     "output_type": "execute_result"
    }
   ],
   "source": [
    "import webbrowser\n",
    "webbrowser.open(auth_url)"
   ]
  },
  {
   "cell_type": "code",
   "execution_count": 8,
   "metadata": {
    "collapsed": true
   },
   "outputs": [],
   "source": [
    "code = '4/BKsviDml-GvvgllvlX3WWgr1t41STLklP91cF2w3R9o'"
   ]
  },
  {
   "cell_type": "code",
   "execution_count": 9,
   "metadata": {},
   "outputs": [],
   "source": [
    "token = session.fetch_token(keychain['youtube']['token_uri'],\n",
    "                            code=code,\n",
    "                            client_secret=keychain['youtube']['client_secret'])  "
   ]
  },
  {
   "cell_type": "code",
   "execution_count": null,
   "metadata": {},
   "outputs": [],
   "source": [
    "print(token)"
   ]
  },
  {
   "cell_type": "code",
   "execution_count": 59,
   "metadata": {},
   "outputs": [],
   "source": [
    "import json\n",
    "with open('token.json', 'w') as outfile:\n",
    "    json.dump(token, outfile)"
   ]
  },
  {
   "cell_type": "code",
   "execution_count": 60,
   "metadata": {},
   "outputs": [
    {
     "data": {
      "text/plain": [
       "'{\"access_token\": \"ya29.GlsbBWJVuN5hKsSXIggsN2d_swCNCuXWyg5El-9RDyTno40_v3Gh1rFjqigb3ecGD808HkRkwDMjWz7I_zLj1rWy7qyMIQ98NaugBhn6pGQCMtOU5WmijF_DSFpZ\", \"expires_in\": 3600, \"token_type\": \"Bearer\", \"expires_at\": 1512619990.0627892, \"refresh_token\": \"1/lJ_us6eBCLri1jPS093V-E4qqpra0RYQ5UUMF-hY5m8\"}'"
      ]
     },
     "execution_count": 60,
     "metadata": {},
     "output_type": "execute_result"
    }
   ],
   "source": [
    "token=open('token.json',mode='r')\n",
    "token=token.read()\n",
    "token"
   ]
  },
  {
   "cell_type": "code",
   "execution_count": 61,
   "metadata": {},
   "outputs": [
    {
     "data": {
      "text/plain": [
       "{'access_token': 'ya29.GlsbBWJVuN5hKsSXIggsN2d_swCNCuXWyg5El-9RDyTno40_v3Gh1rFjqigb3ecGD808HkRkwDMjWz7I_zLj1rWy7qyMIQ98NaugBhn6pGQCMtOU5WmijF_DSFpZ',\n",
       " 'expires_at': 1512619990.0627892,\n",
       " 'expires_in': 3600,\n",
       " 'refresh_token': '1/lJ_us6eBCLri1jPS093V-E4qqpra0RYQ5UUMF-hY5m8',\n",
       " 'token_type': 'Bearer'}"
      ]
     },
     "execution_count": 61,
     "metadata": {},
     "output_type": "execute_result"
    }
   ],
   "source": [
    "token=json.loads(token)\n",
    "token"
   ]
  },
  {
   "cell_type": "code",
   "execution_count": 62,
   "metadata": {},
   "outputs": [
    {
     "data": {
      "text/plain": [
       "{'auth_provider_x509_cert_url': 'https://www.googleapis.com/oauth2/v1/certs',\n",
       " 'auth_uri': 'https://accounts.google.com/o/oauth2/auth',\n",
       " 'client_id': '126920892433-e58m7pn87600743drvlsjsanlcsus2av.apps.googleusercontent.com',\n",
       " 'client_secret': 'flFfvozgUappY1MIRCPE5Cxc',\n",
       " 'project_id': 'project5-187402',\n",
       " 'redirect_uris': ['urn:ietf:wg:oauth:2.0:oob', 'http://localhost'],\n",
       " 'scope': ['https://www.googleapis.com/auth/youtube.readonly'],\n",
       " 'token_uri': 'https://accounts.google.com/o/oauth2/token'}"
      ]
     },
     "execution_count": 62,
     "metadata": {},
     "output_type": "execute_result"
    }
   ],
   "source": [
    "importlib.reload(keys)\n",
    "keychain = keys.keychain\n",
    "keychain['youtube']"
   ]
  },
  {
   "cell_type": "code",
   "execution_count": 63,
   "metadata": {},
   "outputs": [],
   "source": [
    "import requests\n",
    "import pandas as pd\n",
    "from xml.etree import ElementTree as ET\n",
    "import io\n",
    "D = {}\n",
    "D['access_token'] = token['access_token']"
   ]
  },
  {
   "cell_type": "code",
   "execution_count": 64,
   "metadata": {},
   "outputs": [],
   "source": [
    "data = {'videoId':[], 'channelId':[],'categoryId':[] ,'channelTitle':[], 'publishedAt':[]}\n",
    "def getData(data,vid):\n",
    "    for item in vid:\n",
    "        data['videoId'].append(item['id'])\n",
    "        data['channelId'].append(item['snippet']['channelId'])\n",
    "        data['categoryId'].append(item['snippet']['categoryId'])\n",
    "        data['channelTitle'].append(item['snippet']['channelTitle'])\n",
    "        data['publishedAt'].append(item['snippet']['publishedAt'])"
   ]
  },
  {
   "cell_type": "code",
   "execution_count": 65,
   "metadata": {},
   "outputs": [],
   "source": [
    "url ='https://www.googleapis.com/youtube/v3/videos'\n",
    "D['part'] = ['snippet,contentDetails,statistics']\n",
    "D['maxResults'] = '50'\n",
    "D['chart'] ='mostPopular'\n",
    "popular_vid = requests.get(url, params = D)\n",
    "popular_vid = popular_vid.json()"
   ]
  },
  {
   "cell_type": "code",
   "execution_count": 66,
   "metadata": {},
   "outputs": [
    {
     "data": {
      "text/html": [
       "<div>\n",
       "<style>\n",
       "    .dataframe thead tr:only-child th {\n",
       "        text-align: right;\n",
       "    }\n",
       "\n",
       "    .dataframe thead th {\n",
       "        text-align: left;\n",
       "    }\n",
       "\n",
       "    .dataframe tbody tr th {\n",
       "        vertical-align: top;\n",
       "    }\n",
       "</style>\n",
       "<table border=\"1\" class=\"dataframe\">\n",
       "  <thead>\n",
       "    <tr style=\"text-align: right;\">\n",
       "      <th></th>\n",
       "      <th>categoryId</th>\n",
       "      <th>channelId</th>\n",
       "      <th>channelTitle</th>\n",
       "      <th>publishedAt</th>\n",
       "      <th>videoId</th>\n",
       "    </tr>\n",
       "  </thead>\n",
       "  <tbody>\n",
       "    <tr>\n",
       "      <th>0</th>\n",
       "      <td>24</td>\n",
       "      <td>UCIRiWCPZoUyZDbydIqitHtQ</td>\n",
       "      <td>Mike Boyd</td>\n",
       "      <td>2017-12-04T12:00:03.000Z</td>\n",
       "      <td>X6iJ0hPpGec</td>\n",
       "    </tr>\n",
       "    <tr>\n",
       "      <th>1</th>\n",
       "      <td>10</td>\n",
       "      <td>UCZU9T1ceaOgwfLRq7OKFU4Q</td>\n",
       "      <td>Linkin Park</td>\n",
       "      <td>2017-12-04T15:00:48.000Z</td>\n",
       "      <td>sjN-NGsRg9g</td>\n",
       "    </tr>\n",
       "    <tr>\n",
       "      <th>2</th>\n",
       "      <td>24</td>\n",
       "      <td>UC4PooiX37Pld1T8J5SYT-SQ</td>\n",
       "      <td>Good Mythical Morning</td>\n",
       "      <td>2017-12-04T11:00:00.000Z</td>\n",
       "      <td>-C5q3oir8gA</td>\n",
       "    </tr>\n",
       "    <tr>\n",
       "      <th>3</th>\n",
       "      <td>22</td>\n",
       "      <td>UC8C3teVwucjcg7skFUHtPEw</td>\n",
       "      <td>FILMWEBTV</td>\n",
       "      <td>2017-12-05T15:10:37.000Z</td>\n",
       "      <td>XSP5yHZN1I4</td>\n",
       "    </tr>\n",
       "    <tr>\n",
       "      <th>4</th>\n",
       "      <td>10</td>\n",
       "      <td>UCWg7ZcouKaf4TQc_too6kGQ</td>\n",
       "      <td>KISS FM UK</td>\n",
       "      <td>2017-12-05T14:00:49.000Z</td>\n",
       "      <td>u5Jw7D-c3II</td>\n",
       "    </tr>\n",
       "    <tr>\n",
       "      <th>5</th>\n",
       "      <td>26</td>\n",
       "      <td>UCrIIH7yHQugaUuoTZDoEUuQ</td>\n",
       "      <td>Tanya Burr</td>\n",
       "      <td>2017-12-05T15:30:02.000Z</td>\n",
       "      <td>bqbWMgkvedI</td>\n",
       "    </tr>\n",
       "    <tr>\n",
       "      <th>6</th>\n",
       "      <td>17</td>\n",
       "      <td>UCOBlh9E4bgmCWrDhuQGEkQA</td>\n",
       "      <td>Syracuse Orange</td>\n",
       "      <td>2017-12-06T05:22:41.000Z</td>\n",
       "      <td>h4kv0iKgiks</td>\n",
       "    </tr>\n",
       "    <tr>\n",
       "      <th>7</th>\n",
       "      <td>17</td>\n",
       "      <td>UCWJ2lWNubArHWmf3FIHbfcQ</td>\n",
       "      <td>NBA</td>\n",
       "      <td>2017-12-06T06:36:23.000Z</td>\n",
       "      <td>j5cSKF5FzD0</td>\n",
       "    </tr>\n",
       "    <tr>\n",
       "      <th>8</th>\n",
       "      <td>25</td>\n",
       "      <td>UCLXo7UDZvByw2ixzpQCufnA</td>\n",
       "      <td>Vox</td>\n",
       "      <td>2017-12-04T14:09:43.000Z</td>\n",
       "      <td>a-4_6bThk2E</td>\n",
       "    </tr>\n",
       "    <tr>\n",
       "      <th>9</th>\n",
       "      <td>23</td>\n",
       "      <td>UCjD2KyAEm84yVH8cTilID7Q</td>\n",
       "      <td>Cracked</td>\n",
       "      <td>2017-12-04T17:00:06.000Z</td>\n",
       "      <td>xi8u9DcC0_Q</td>\n",
       "    </tr>\n",
       "  </tbody>\n",
       "</table>\n",
       "</div>"
      ],
      "text/plain": [
       "  categoryId                 channelId           channelTitle  \\\n",
       "0         24  UCIRiWCPZoUyZDbydIqitHtQ              Mike Boyd   \n",
       "1         10  UCZU9T1ceaOgwfLRq7OKFU4Q            Linkin Park   \n",
       "2         24  UC4PooiX37Pld1T8J5SYT-SQ  Good Mythical Morning   \n",
       "3         22  UC8C3teVwucjcg7skFUHtPEw              FILMWEBTV   \n",
       "4         10  UCWg7ZcouKaf4TQc_too6kGQ             KISS FM UK   \n",
       "5         26  UCrIIH7yHQugaUuoTZDoEUuQ             Tanya Burr   \n",
       "6         17  UCOBlh9E4bgmCWrDhuQGEkQA        Syracuse Orange   \n",
       "7         17  UCWJ2lWNubArHWmf3FIHbfcQ                    NBA   \n",
       "8         25  UCLXo7UDZvByw2ixzpQCufnA                    Vox   \n",
       "9         23  UCjD2KyAEm84yVH8cTilID7Q                Cracked   \n",
       "\n",
       "                publishedAt      videoId  \n",
       "0  2017-12-04T12:00:03.000Z  X6iJ0hPpGec  \n",
       "1  2017-12-04T15:00:48.000Z  sjN-NGsRg9g  \n",
       "2  2017-12-04T11:00:00.000Z  -C5q3oir8gA  \n",
       "3  2017-12-05T15:10:37.000Z  XSP5yHZN1I4  \n",
       "4  2017-12-05T14:00:49.000Z  u5Jw7D-c3II  \n",
       "5  2017-12-05T15:30:02.000Z  bqbWMgkvedI  \n",
       "6  2017-12-06T05:22:41.000Z  h4kv0iKgiks  \n",
       "7  2017-12-06T06:36:23.000Z  j5cSKF5FzD0  \n",
       "8  2017-12-04T14:09:43.000Z  a-4_6bThk2E  \n",
       "9  2017-12-04T17:00:06.000Z  xi8u9DcC0_Q  "
      ]
     },
     "execution_count": 66,
     "metadata": {},
     "output_type": "execute_result"
    }
   ],
   "source": [
    "page = []\n",
    "data = {'videoId':[], 'channelId':[],'categoryId':[] ,'channelTitle':[], 'publishedAt':[]}\n",
    "for i in range(20):\n",
    "    if 'nextPageToken' not in popular_vid:\n",
    "        nex_page = 'CAUQAA'\n",
    "    else:\n",
    "        next_page = popular_vid['nextPageToken']\n",
    "    page.append(next_page)\n",
    "    D['pageToken'] = next_page\n",
    "    popular_vid = requests.get(url, params = D)\n",
    "    popular_vid = popular_vid.json()\n",
    "    getData(data,popular_vid['items'])\n",
    "df= pd.DataFrame(data)\n",
    "df[:10]"
   ]
  },
  {
   "cell_type": "code",
   "execution_count": 39,
   "metadata": {},
   "outputs": [],
   "source": [
    "url = 'https://www.googleapis.com/youtube/v3/videoCategories'\n",
    "C = {}\n",
    "C['access_token'] = token['access_token']\n",
    "C['part'] = 'snippet'\n",
    "C['regionCode'] = 'US'\n",
    "category_vid = requests.get(url, params = C)\n",
    "category_vid = category_vid.json()"
   ]
  },
  {
   "cell_type": "code",
   "execution_count": 34,
   "metadata": {},
   "outputs": [
    {
     "data": {
      "text/html": [
       "<div>\n",
       "<style>\n",
       "    .dataframe thead tr:only-child th {\n",
       "        text-align: right;\n",
       "    }\n",
       "\n",
       "    .dataframe thead th {\n",
       "        text-align: left;\n",
       "    }\n",
       "\n",
       "    .dataframe tbody tr th {\n",
       "        vertical-align: top;\n",
       "    }\n",
       "</style>\n",
       "<table border=\"1\" class=\"dataframe\">\n",
       "  <thead>\n",
       "    <tr style=\"text-align: right;\">\n",
       "      <th></th>\n",
       "      <th>id</th>\n",
       "      <th>title</th>\n",
       "    </tr>\n",
       "  </thead>\n",
       "  <tbody>\n",
       "    <tr>\n",
       "      <th>0</th>\n",
       "      <td>1</td>\n",
       "      <td>Film &amp; Animation</td>\n",
       "    </tr>\n",
       "    <tr>\n",
       "      <th>1</th>\n",
       "      <td>2</td>\n",
       "      <td>Autos &amp; Vehicles</td>\n",
       "    </tr>\n",
       "    <tr>\n",
       "      <th>2</th>\n",
       "      <td>10</td>\n",
       "      <td>Music</td>\n",
       "    </tr>\n",
       "    <tr>\n",
       "      <th>3</th>\n",
       "      <td>15</td>\n",
       "      <td>Pets &amp; Animals</td>\n",
       "    </tr>\n",
       "    <tr>\n",
       "      <th>4</th>\n",
       "      <td>17</td>\n",
       "      <td>Sports</td>\n",
       "    </tr>\n",
       "    <tr>\n",
       "      <th>5</th>\n",
       "      <td>18</td>\n",
       "      <td>Short Movies</td>\n",
       "    </tr>\n",
       "    <tr>\n",
       "      <th>6</th>\n",
       "      <td>19</td>\n",
       "      <td>Travel &amp; Events</td>\n",
       "    </tr>\n",
       "    <tr>\n",
       "      <th>7</th>\n",
       "      <td>20</td>\n",
       "      <td>Gaming</td>\n",
       "    </tr>\n",
       "    <tr>\n",
       "      <th>8</th>\n",
       "      <td>21</td>\n",
       "      <td>Videoblogging</td>\n",
       "    </tr>\n",
       "    <tr>\n",
       "      <th>9</th>\n",
       "      <td>22</td>\n",
       "      <td>People &amp; Blogs</td>\n",
       "    </tr>\n",
       "  </tbody>\n",
       "</table>\n",
       "</div>"
      ],
      "text/plain": [
       "   id             title\n",
       "0   1  Film & Animation\n",
       "1   2  Autos & Vehicles\n",
       "2  10             Music\n",
       "3  15    Pets & Animals\n",
       "4  17            Sports\n",
       "5  18      Short Movies\n",
       "6  19   Travel & Events\n",
       "7  20            Gaming\n",
       "8  21     Videoblogging\n",
       "9  22    People & Blogs"
      ]
     },
     "execution_count": 34,
     "metadata": {},
     "output_type": "execute_result"
    }
   ],
   "source": [
    "data_category = {'id':[],'title':[]}\n",
    "def categoryTable(data,json):\n",
    "    for item in json:\n",
    "        data['id'].append(item['id'])\n",
    "        data['title'].append(item['snippet']['title'])\n",
    "categoryTable(data_category,category_vid['items'])\n",
    "df1 = pd.DataFrame(data_category)\n",
    "df1[:10]"
   ]
  },
  {
   "cell_type": "code",
   "execution_count": 38,
   "metadata": {},
   "outputs": [],
   "source": [
    "result = pd.merge(df, df1, left_on='categoryId', right_on='id')\n",
    "result.to_csv('result.csv')"
   ]
  },
  {
   "cell_type": "code",
   "execution_count": 57,
   "metadata": {},
   "outputs": [],
   "source": [
    "refresh_url = keychain['youtube']['token_uri']\n",
    "token = session.refresh_token(refresh_url, \n",
    "                             client_id=keychain['youtube']['client_id'],\n",
    "                             client_secret=keychain['youtube']['client_secret'])"
   ]
  },
  {
   "cell_type": "code",
   "execution_count": 58,
   "metadata": {},
   "outputs": [
    {
     "name": "stdout",
     "output_type": "stream",
     "text": [
      "{'access_token': 'ya29.GlsbBWJVuN5hKsSXIggsN2d_swCNCuXWyg5El-9RDyTno40_v3Gh1rFjqigb3ecGD808HkRkwDMjWz7I_zLj1rWy7qyMIQ98NaugBhn6pGQCMtOU5WmijF_DSFpZ', 'expires_in': 3600, 'token_type': 'Bearer', 'expires_at': 1512619990.0627892, 'refresh_token': '1/lJ_us6eBCLri1jPS093V-E4qqpra0RYQ5UUMF-hY5m8'}\n"
     ]
    }
   ],
   "source": [
    "print(token)"
   ]
  },
  {
   "cell_type": "code",
   "execution_count": null,
   "metadata": {
    "collapsed": true
   },
   "outputs": [],
   "source": []
  }
 ],
 "metadata": {
  "kernelspec": {
   "display_name": "Python 3",
   "language": "python",
   "name": "python3"
  },
  "language_info": {
   "codemirror_mode": {
    "name": "ipython",
    "version": 3
   },
   "file_extension": ".py",
   "mimetype": "text/x-python",
   "name": "python",
   "nbconvert_exporter": "python",
   "pygments_lexer": "ipython3",
   "version": "3.6.1"
  }
 },
 "nbformat": 4,
 "nbformat_minor": 2
}
