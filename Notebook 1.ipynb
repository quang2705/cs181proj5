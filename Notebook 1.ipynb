{
 "cells": [
  {
   "cell_type": "markdown",
   "metadata": {},
   "source": [
    "# Notebook 1\n",
    "\n",
    "## Project 5\n",
    "\n",
    "#### Quang, Paul and Luke"
   ]
  },
  {
   "cell_type": "markdown",
   "metadata": {},
   "source": [
    "To use the YouTube Analytics API, we have to use the OAuth2 process to access YouTube data from the authenticated user. Our goal with this notebook is to allow any YouTube user (google user) to run this program and create a json file that will contain a token and refresh token that they can use in subsequent notebooks. They can then use this file to query the YouTube API in interesting ways.\n",
    "\n",
    "To begin the OAuth2 process, we have to create a new project with Google from our resource owner account, which will be a gmail account associated with a YouTube account. After creating the project, we used a py file to store relevant information that we got back from a json file. Our client credentials and redirect uri were then accessed from this file in our notebook. We do this to keep sensitive information private from the notebook, so our work is more accessible."
   ]
  },
  {
   "cell_type": "code",
   "execution_count": null,
   "metadata": {
    "collapsed": true
   },
   "outputs": [],
   "source": [
    "import importlib\n",
    "import keys\n",
    "importlib.reload(keys)\n",
    "import json\n",
    "import pprint\n",
    "keychain = keys.keychain        \n",
    "\n",
    "# imports our py file that will help build our uri\n",
    "\n",
    "pp = pprint.PrettyPrinter(indent=2)\n",
    "\n",
    "client_id = keychain['youtube']['client_id']\n",
    "scope = keychain['youtube']['scope']\n",
    "redirect = keychain['youtube']['redirect_uris'][0]\n",
    "\n",
    "# creating values for our client ID, scope and redirect URI in our json file\n",
    "\n",
    "print(client_id[:20], scope, redirect)\n",
    "keychain['youtube']"
   ]
  },
  {
   "cell_type": "markdown",
   "metadata": {},
   "source": [
    "We then created a session using this information in our file. This gave us an authorization URL that allowed us to gain an access code. \n"
   ]
  },
  {
   "cell_type": "code",
   "execution_count": null,
   "metadata": {
    "collapsed": true
   },
   "outputs": [],
   "source": [
    "from requests_oauthlib import OAuth2Session"
   ]
  },
  {
   "cell_type": "code",
   "execution_count": null,
   "metadata": {
    "collapsed": true
   },
   "outputs": [],
   "source": [
    "session = OAuth2Session(client_id, scope=scope, redirect_uri=redirect)\n",
    "\n",
    "# creates our OAuth2 session using the requests library\n",
    "\n",
    "auth_url, state = session.authorization_url(keychain['youtube']['auth_uri'],access_type='offline',include_granted_scopes='true')\n",
    "\n",
    "# creates an authorization URL for our user based on their information\n",
    "\n",
    "print(auth_url)"
   ]
  },
  {
   "cell_type": "markdown",
   "metadata": {},
   "source": [
    "From there, we were able to gain an authorization code to give to the YouTube server. At this point in the Oauth process, we were confident that we had authenticated ourselves and our client to the YouTube servers. "
   ]
  },
  {
   "cell_type": "code",
   "execution_count": null,
   "metadata": {
    "collapsed": true
   },
   "outputs": [],
   "source": [
    "code = '4/xe4WcQeCYyzXOUmfymrLdnPc6-JEZTNG_PC4x7_Ni8I'\n",
    "#This code will not work as it has already been redeemed. A new one would need to be accessed \n",
    "#from the url above"
   ]
  },
  {
   "cell_type": "code",
   "execution_count": null,
   "metadata": {
    "collapsed": true
   },
   "outputs": [],
   "source": [
    "token = session.fetch_token(keychain['youtube']['token_uri'],\n",
    "                            code=code,\n",
    "                            client_secret=keychain['youtube']['client_secret'])  \n",
    "\n",
    "# fetches our access token"
   ]
  },
  {
   "cell_type": "markdown",
   "metadata": {},
   "source": [
    "The next step was to allow our client to gain our access token and store it safely. A problem we did not initally anticipate was the expiration of the token we received. After a certain amount of time, the token we saved to use to query the API did not work. We needed a way to continue the program without burdening a user with gaining a new token on their own.\n",
    "\n",
    "To be able to continue the program for our user, we also needed to retrieve a refresh token that would allow us to continue our access to the API. Once we gained the access token and refresh token, we wrote those tokens to a json file that could be accessed in our subsequent notebook.\n"
   ]
  },
  {
   "cell_type": "code",
   "execution_count": null,
   "metadata": {
    "collapsed": true
   },
   "outputs": [],
   "source": [
    "refresh_url = keychain['youtube']['token_uri']\n",
    "token = session.refresh_token(refresh_url, \n",
    "                             client_id=keychain['youtube']['client_id'],\n",
    "                             client_secret=keychain['youtube']['client_secret'])\n",
    "\n",
    "# fetches our refresh token\n",
    "\n",
    "token"
   ]
  },
  {
   "cell_type": "code",
   "execution_count": null,
   "metadata": {
    "collapsed": true
   },
   "outputs": [],
   "source": [
    "import json\n",
    "with open('token.json', 'w') as outfile:\n",
    "    json.dump(token, outfile)\n",
    "    \n",
    "# takes our original json file and dumps it out to our local directory with updated token"
   ]
  },
  {
   "cell_type": "markdown",
   "metadata": {},
   "source": [
    "The main challenge of this notebook was making finding a way to allow us to access our authorization token from any subsequent notebooks. Once we realized that writing the token out to an external file solved this issue, we were able to complete the rest of the authorization process with ease. Through the use of files outside the program and the generation of a refresh token, we accomplished our goal of completing the Oauth process for the user. The user can now use our subsequent notebooks to explore the YouTube API and access the visuals we created in our exploration."
   ]
  }
 ],
 "metadata": {
  "kernelspec": {
   "display_name": "Python 3",
   "language": "python",
   "name": "python3"
  },
  "language_info": {
   "codemirror_mode": {
    "name": "ipython",
    "version": 3
   },
   "file_extension": ".py",
   "mimetype": "text/x-python",
   "name": "python",
   "nbconvert_exporter": "python",
   "pygments_lexer": "ipython3",
   "version": "3.6.2"
  }
 },
 "nbformat": 4,
 "nbformat_minor": 2
}
