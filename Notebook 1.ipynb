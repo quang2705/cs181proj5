{
 "cells": [
  {
   "cell_type": "markdown",
   "metadata": {},
   "source": [
    "# Notebook 1\n",
    "\n",
    "## Project 5\n",
    "\n",
    "#### Quang, Paul and Luke"
   ]
  },
  {
   "cell_type": "markdown",
   "metadata": {},
   "source": [
    "To use the YouTube Analytics API, we have to use the OAuth2 process to access YouTube data from the authenticated user. We will also be using the API to retrieve public information from public videos which does not require authorization. \n",
    "\n",
    "To begin the OAuth2 process, we have to create a new project with Google from our resource owner account, which will be a gmail account associated with a YouTube account. After creating the project, we used a py file to store relevant information that we got back from a json file. Our client credentials and redirect uri were then accessed from this file in our notebook. "
   ]
  },
  {
   "cell_type": "code",
   "execution_count": null,
   "metadata": {
    "collapsed": true
   },
   "outputs": [],
   "source": [
    "import importlib\n",
    "import keys\n",
    "importlib.reload(keys)\n",
    "import json\n",
    "import pprint\n",
    "keychain = keys.keychain\n",
    "\n",
    "pp = pprint.PrettyPrinter(indent=2)\n",
    "\n",
    "client_id = keychain['youtube']['client_id']\n",
    "scope = keychain['youtube']['scope']\n",
    "redirect = keychain['youtube']['redirect_uris'][0]\n",
    "print(client_id[:20], scope, redirect)\n",
    "keychain['youtube']"
   ]
  },
  {
   "cell_type": "markdown",
   "metadata": {},
   "source": [
    "We then created a session using this information in our file. This gave us an authorization URL that allowed us to gain an access code.\n"
   ]
  },
  {
   "cell_type": "code",
   "execution_count": 2,
   "metadata": {
    "collapsed": true
   },
   "outputs": [],
   "source": [
    "from requests_oauthlib import OAuth2Session"
   ]
  },
  {
   "cell_type": "code",
   "execution_count": 3,
   "metadata": {
    "collapsed": false
   },
   "outputs": [
    {
     "name": "stdout",
     "output_type": "stream",
     "text": [
      "https://accounts.google.com/o/oauth2/auth?response_type=code&client_id=126920892433-e58m7pn87600743drvlsjsanlcsus2av.apps.googleusercontent.com&redirect_uri=urn%3Aietf%3Awg%3Aoauth%3A2.0%3Aoob&scope=https%3A%2F%2Fwww.googleapis.com%2Fauth%2Fyoutube.readonly&state=0SycnEMT14qEX9RAMZ8ehTS1hAkFpH&access_type=offline&include_granted_scopes=true\n"
     ]
    }
   ],
   "source": [
    "session = OAuth2Session(client_id, scope=scope, redirect_uri=redirect)\n",
    "auth_url, state = session.authorization_url(keychain['youtube']['auth_uri'],access_type='offline',include_granted_scopes='true')\n",
    "print(auth_url)"
   ]
  },
  {
   "cell_type": "markdown",
   "metadata": {},
   "source": [
    "From there, we were able to gain a token to give to the YouTube server."
   ]
  },
  {
   "cell_type": "code",
   "execution_count": 6,
   "metadata": {
    "collapsed": true
   },
   "outputs": [],
   "source": [
    "code = '4/xe4WcQeCYyzXOUmfymrLdnPc6-JEZTNG_PC4x7_Ni8I'"
   ]
  },
  {
   "cell_type": "code",
   "execution_count": 7,
   "metadata": {
    "collapsed": true
   },
   "outputs": [],
   "source": [
    "token = session.fetch_token(keychain['youtube']['token_uri'],\n",
    "                            code=code,\n",
    "                            client_secret=keychain['youtube']['client_secret'])  "
   ]
  },
  {
   "cell_type": "markdown",
   "metadata": {},
   "source": [
    "To be able to continue the program for our user, we also needed to retrieve a refresh token that would allow us to continue our access to the API. Once we gained the access token and refresh token, we wrote those tokens to a json file that could be accessed in our subsequent notebook.\n"
   ]
  },
  {
   "cell_type": "code",
   "execution_count": 11,
   "metadata": {
    "collapsed": false
   },
   "outputs": [
    {
     "data": {
      "text/plain": [
       "{'access_token': 'ya29.GlscBZER4fe-lFL7S1aX8vvTttD78-vuqhcrSH_MJWIf7aDMvZ88VX8DVG8gDhr42KVrjbB2BMFjt70nNMWfHiDvJLQVEN8P2xQzAlLC5tPanCxijkvI1H6MN68f',\n",
       " 'expires_at': 1512716300.6317785,\n",
       " 'expires_in': 3600,\n",
       " 'refresh_token': '1/404Y5NzJtD0RmPCDMHRJ2QOHgM1dHW3fkogwXyJZiMQ',\n",
       " 'token_type': 'Bearer'}"
      ]
     },
     "execution_count": 11,
     "metadata": {},
     "output_type": "execute_result"
    }
   ],
   "source": [
    "refresh_url = keychain['youtube']['token_uri']\n",
    "token = session.refresh_token(refresh_url, \n",
    "                             client_id=keychain['youtube']['client_id'],\n",
    "                             client_secret=keychain['youtube']['client_secret'])\n",
    "token"
   ]
  },
  {
   "cell_type": "code",
   "execution_count": 9,
   "metadata": {
    "collapsed": true
   },
   "outputs": [],
   "source": [
    "import json\n",
    "with open('token.json', 'w') as outfile:\n",
    "    json.dump(token, outfile)"
   ]
  }
 ],
 "metadata": {
  "kernelspec": {
   "display_name": "Python 3",
   "language": "python",
   "name": "python3"
  },
  "language_info": {
   "codemirror_mode": {
    "name": "ipython",
    "version": 3
   },
   "file_extension": ".py",
   "mimetype": "text/x-python",
   "name": "python",
   "nbconvert_exporter": "python",
   "pygments_lexer": "ipython3",
   "version": "3.6.0"
  }
 },
 "nbformat": 4,
 "nbformat_minor": 2
}
