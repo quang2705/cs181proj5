{
 "cells": [
  {
   "cell_type": "code",
   "execution_count": 28,
   "metadata": {},
   "outputs": [],
   "source": [
    "import json\n",
    "import requests\n",
    "import pandas as pd\n",
    "import importlib\n",
    "from requests_oauthlib import OAuth2Session"
   ]
  },
  {
   "cell_type": "code",
   "execution_count": 29,
   "metadata": {},
   "outputs": [
    {
     "data": {
      "text/plain": [
       "'{\"access_token\": \"ya29.GlscBe7_nUkM8rlUdA3APRugfsqL6jNPWA0KADaEWDjfEg4PYs3cyU0wIepXsOAOeaK3pfwBQv_qbcD5vXMp-LwIcmQ_qHWtxXML2xmWJQPmqmx-kkw9C5Q8CC6m\", \"expires_in\": 3600, \"token_type\": \"Bearer\", \"expires_at\": 1512716215.3208017, \"refresh_token\": \"1/404Y5NzJtD0RmPCDMHRJ2QOHgM1dHW3fkogwXyJZiMQ\"}'"
      ]
     },
     "execution_count": 29,
     "metadata": {},
     "output_type": "execute_result"
    }
   ],
   "source": [
    "token=open('token.json',mode='r')\n",
    "token=token.read()\n",
    "token"
   ]
  },
  {
   "cell_type": "code",
   "execution_count": 30,
   "metadata": {},
   "outputs": [
    {
     "data": {
      "text/plain": [
       "{'access_token': 'ya29.GlscBe7_nUkM8rlUdA3APRugfsqL6jNPWA0KADaEWDjfEg4PYs3cyU0wIepXsOAOeaK3pfwBQv_qbcD5vXMp-LwIcmQ_qHWtxXML2xmWJQPmqmx-kkw9C5Q8CC6m',\n",
       " 'expires_at': 1512716215.3208017,\n",
       " 'expires_in': 3600,\n",
       " 'refresh_token': '1/404Y5NzJtD0RmPCDMHRJ2QOHgM1dHW3fkogwXyJZiMQ',\n",
       " 'token_type': 'Bearer'}"
      ]
     },
     "execution_count": 30,
     "metadata": {},
     "output_type": "execute_result"
    }
   ],
   "source": [
    "token=json.loads(token)\n",
    "token"
   ]
  },
  {
   "cell_type": "code",
   "execution_count": 41,
   "metadata": {},
   "outputs": [
    {
     "data": {
      "text/plain": [
       "{'auth_provider_x509_cert_url': 'https://www.googleapis.com/oauth2/v1/certs',\n",
       " 'auth_uri': 'https://accounts.google.com/o/oauth2/auth',\n",
       " 'client_id': '126920892433-e58m7pn87600743drvlsjsanlcsus2av.apps.googleusercontent.com',\n",
       " 'client_secret': 'flFfvozgUappY1MIRCPE5Cxc',\n",
       " 'project_id': 'project5-187402',\n",
       " 'redirect_uris': ['urn:ietf:wg:oauth:2.0:oob', 'http://localhost'],\n",
       " 'scope': ['https://www.googleapis.com/auth/youtube.readonly'],\n",
       " 'token_uri': 'https://accounts.google.com/o/oauth2/token'}"
      ]
     },
     "execution_count": 41,
     "metadata": {},
     "output_type": "execute_result"
    }
   ],
   "source": [
    "import keys\n",
    "importlib.reload(keys)\n",
    "keychain = keys.keychain\n",
    "client_id = keychain['youtube']['client_id']\n",
    "scope = keychain['youtube']['scope']\n",
    "redirect = keychain['youtube']['redirect_uris'][0]\n",
    "refresh_url = keychain['youtube']['token_uri']\n",
    "session = OAuth2Session(client_id, scope=scope, redirect_uri=redirect)\n",
    "keychain['youtube']"
   ]
  },
  {
   "cell_type": "code",
   "execution_count": 42,
   "metadata": {},
   "outputs": [],
   "source": [
    "D = {}\n",
    "D['access_token'] = token['access_token']\n",
    "D['part'] = ['snippet,contentDetails,statistics']\n",
    "D['maxResults'] = '50'\n",
    "D['chart'] ='mostPopular'\n",
    "url ='https://www.googleapis.com/youtube/v3/videos'\n",
    "popular_vid = requests.get(url, params = D)\n",
    "popular_vid = popular_vid.json()"
   ]
  },
  {
   "cell_type": "code",
   "execution_count": 33,
   "metadata": {
    "collapsed": true
   },
   "outputs": [],
   "source": [
    "def getData(data,vid):\n",
    "    for item in vid:\n",
    "        data['videoId'].append(item['id'])\n",
    "        data['channelId'].append(item['snippet']['channelId'])\n",
    "        data['categoryId'].append(item['snippet']['categoryId'])\n",
    "        data['channelTitle'].append(item['snippet']['channelTitle'])\n",
    "        data['publishedAt'].append(item['snippet']['publishedAt'][10:12])"
   ]
  },
  {
   "cell_type": "code",
   "execution_count": 13,
   "metadata": {},
   "outputs": [
    {
     "data": {
      "text/html": [
       "<div>\n",
       "<style>\n",
       "    .dataframe thead tr:only-child th {\n",
       "        text-align: right;\n",
       "    }\n",
       "\n",
       "    .dataframe thead th {\n",
       "        text-align: left;\n",
       "    }\n",
       "\n",
       "    .dataframe tbody tr th {\n",
       "        vertical-align: top;\n",
       "    }\n",
       "</style>\n",
       "<table border=\"1\" class=\"dataframe\">\n",
       "  <thead>\n",
       "    <tr style=\"text-align: right;\">\n",
       "      <th></th>\n",
       "      <th>categoryId</th>\n",
       "      <th>channelId</th>\n",
       "      <th>channelTitle</th>\n",
       "      <th>publishedAt</th>\n",
       "      <th>videoId</th>\n",
       "    </tr>\n",
       "  </thead>\n",
       "  <tbody>\n",
       "    <tr>\n",
       "      <th>0</th>\n",
       "      <td>22</td>\n",
       "      <td>UC1x4XiKjnt_aonVhDLDxqmw</td>\n",
       "      <td>jessiepaege</td>\n",
       "      <td>T2</td>\n",
       "      <td>R39-E3uG5J0</td>\n",
       "    </tr>\n",
       "    <tr>\n",
       "      <th>1</th>\n",
       "      <td>17</td>\n",
       "      <td>UCoh_z6QB0AGB1oxWufvbDUg</td>\n",
       "      <td>MLG Highlights</td>\n",
       "      <td>T0</td>\n",
       "      <td>dd3XfA4NVcQ</td>\n",
       "    </tr>\n",
       "    <tr>\n",
       "      <th>2</th>\n",
       "      <td>23</td>\n",
       "      <td>UCR-QYzXrZF8yFarK8wZbHog</td>\n",
       "      <td>PsychoSoprano</td>\n",
       "      <td>T2</td>\n",
       "      <td>l3f_1zEEnR0</td>\n",
       "    </tr>\n",
       "    <tr>\n",
       "      <th>3</th>\n",
       "      <td>22</td>\n",
       "      <td>UCU0X0jiii24OXllSgXbPVBw</td>\n",
       "      <td>Madelaine Petsch</td>\n",
       "      <td>T1</td>\n",
       "      <td>KDPG0YEsD5Q</td>\n",
       "    </tr>\n",
       "    <tr>\n",
       "      <th>4</th>\n",
       "      <td>26</td>\n",
       "      <td>UCNbngWUqL2eqRw12yAwcICg</td>\n",
       "      <td>Laura in the Kitchen</td>\n",
       "      <td>T1</td>\n",
       "      <td>GP0uH-PaE_E</td>\n",
       "    </tr>\n",
       "    <tr>\n",
       "      <th>5</th>\n",
       "      <td>10</td>\n",
       "      <td>UC5hgXzgv6iF6NjfLcE0DmAg</td>\n",
       "      <td>LecraeVEVO</td>\n",
       "      <td>T1</td>\n",
       "      <td>mrORbZ2dS08</td>\n",
       "    </tr>\n",
       "    <tr>\n",
       "      <th>6</th>\n",
       "      <td>22</td>\n",
       "      <td>UCGaVdbSav8xWuFWTadK6loA</td>\n",
       "      <td>vlogbrothers</td>\n",
       "      <td>T2</td>\n",
       "      <td>Rjv1NlMiUyI</td>\n",
       "    </tr>\n",
       "    <tr>\n",
       "      <th>7</th>\n",
       "      <td>25</td>\n",
       "      <td>UCqnbDFdCpuN8CMEg0VuEBqA</td>\n",
       "      <td>The New York Times</td>\n",
       "      <td>T0</td>\n",
       "      <td>Hi91aDmYI2E</td>\n",
       "    </tr>\n",
       "    <tr>\n",
       "      <th>8</th>\n",
       "      <td>24</td>\n",
       "      <td>UCPWQWav6BpPvtanCtloXkiw</td>\n",
       "      <td>The CW Television Network</td>\n",
       "      <td>T0</td>\n",
       "      <td>xkYpO9ATUT0</td>\n",
       "    </tr>\n",
       "    <tr>\n",
       "      <th>9</th>\n",
       "      <td>24</td>\n",
       "      <td>UCSV8iMrDMdzc79kPCS9qucg</td>\n",
       "      <td>The Talk</td>\n",
       "      <td>T2</td>\n",
       "      <td>032BPsxhreM</td>\n",
       "    </tr>\n",
       "  </tbody>\n",
       "</table>\n",
       "</div>"
      ],
      "text/plain": [
       "  categoryId                 channelId               channelTitle publishedAt  \\\n",
       "0         22  UC1x4XiKjnt_aonVhDLDxqmw                jessiepaege          T2   \n",
       "1         17  UCoh_z6QB0AGB1oxWufvbDUg             MLG Highlights          T0   \n",
       "2         23  UCR-QYzXrZF8yFarK8wZbHog              PsychoSoprano          T2   \n",
       "3         22  UCU0X0jiii24OXllSgXbPVBw           Madelaine Petsch          T1   \n",
       "4         26  UCNbngWUqL2eqRw12yAwcICg       Laura in the Kitchen          T1   \n",
       "5         10  UC5hgXzgv6iF6NjfLcE0DmAg                 LecraeVEVO          T1   \n",
       "6         22  UCGaVdbSav8xWuFWTadK6loA               vlogbrothers          T2   \n",
       "7         25  UCqnbDFdCpuN8CMEg0VuEBqA         The New York Times          T0   \n",
       "8         24  UCPWQWav6BpPvtanCtloXkiw  The CW Television Network          T0   \n",
       "9         24  UCSV8iMrDMdzc79kPCS9qucg                   The Talk          T2   \n",
       "\n",
       "       videoId  \n",
       "0  R39-E3uG5J0  \n",
       "1  dd3XfA4NVcQ  \n",
       "2  l3f_1zEEnR0  \n",
       "3  KDPG0YEsD5Q  \n",
       "4  GP0uH-PaE_E  \n",
       "5  mrORbZ2dS08  \n",
       "6  Rjv1NlMiUyI  \n",
       "7  Hi91aDmYI2E  \n",
       "8  xkYpO9ATUT0  \n",
       "9  032BPsxhreM  "
      ]
     },
     "execution_count": 13,
     "metadata": {},
     "output_type": "execute_result"
    }
   ],
   "source": [
    "data = {'videoId':[], 'channelId':[],'categoryId':[] ,'channelTitle':[], 'publishedAt':[]}\n",
    "page = []\n",
    "for i in range(20):\n",
    "    if 'nextPageToken' not in popular_vid:\n",
    "        nex_page = 'CAUQAA'\n",
    "    else:\n",
    "        next_page = popular_vid['nextPageToken']\n",
    "    page.append(next_page)\n",
    "    D['pageToken'] = next_page\n",
    "    popular_vid = requests.get(url, params = D)\n",
    "    popular_vid = popular_vid.json()\n",
    "    getData(data,popular_vid['items'])\n",
    "df= pd.DataFrame(data)\n",
    "df[:10]"
   ]
  },
  {
   "cell_type": "code",
   "execution_count": 18,
   "metadata": {},
   "outputs": [],
   "source": [
    "url = 'https://www.googleapis.com/youtube/v3/videoCategories'\n",
    "C = {}\n",
    "C['access_token'] = token['access_token']\n",
    "C['part'] = 'snippet'\n",
    "C['regionCode'] = 'US'\n",
    "category_vid = requests.get(url, params = C)\n",
    "category_vid = category_vid.json()"
   ]
  },
  {
   "cell_type": "code",
   "execution_count": 19,
   "metadata": {},
   "outputs": [
    {
     "data": {
      "text/html": [
       "<div>\n",
       "<style>\n",
       "    .dataframe thead tr:only-child th {\n",
       "        text-align: right;\n",
       "    }\n",
       "\n",
       "    .dataframe thead th {\n",
       "        text-align: left;\n",
       "    }\n",
       "\n",
       "    .dataframe tbody tr th {\n",
       "        vertical-align: top;\n",
       "    }\n",
       "</style>\n",
       "<table border=\"1\" class=\"dataframe\">\n",
       "  <thead>\n",
       "    <tr style=\"text-align: right;\">\n",
       "      <th></th>\n",
       "      <th>id</th>\n",
       "      <th>title</th>\n",
       "    </tr>\n",
       "  </thead>\n",
       "  <tbody>\n",
       "    <tr>\n",
       "      <th>0</th>\n",
       "      <td>1</td>\n",
       "      <td>Film &amp; Animation</td>\n",
       "    </tr>\n",
       "    <tr>\n",
       "      <th>1</th>\n",
       "      <td>2</td>\n",
       "      <td>Autos &amp; Vehicles</td>\n",
       "    </tr>\n",
       "    <tr>\n",
       "      <th>2</th>\n",
       "      <td>10</td>\n",
       "      <td>Music</td>\n",
       "    </tr>\n",
       "    <tr>\n",
       "      <th>3</th>\n",
       "      <td>15</td>\n",
       "      <td>Pets &amp; Animals</td>\n",
       "    </tr>\n",
       "    <tr>\n",
       "      <th>4</th>\n",
       "      <td>17</td>\n",
       "      <td>Sports</td>\n",
       "    </tr>\n",
       "    <tr>\n",
       "      <th>5</th>\n",
       "      <td>18</td>\n",
       "      <td>Short Movies</td>\n",
       "    </tr>\n",
       "    <tr>\n",
       "      <th>6</th>\n",
       "      <td>19</td>\n",
       "      <td>Travel &amp; Events</td>\n",
       "    </tr>\n",
       "    <tr>\n",
       "      <th>7</th>\n",
       "      <td>20</td>\n",
       "      <td>Gaming</td>\n",
       "    </tr>\n",
       "    <tr>\n",
       "      <th>8</th>\n",
       "      <td>21</td>\n",
       "      <td>Videoblogging</td>\n",
       "    </tr>\n",
       "    <tr>\n",
       "      <th>9</th>\n",
       "      <td>22</td>\n",
       "      <td>People &amp; Blogs</td>\n",
       "    </tr>\n",
       "  </tbody>\n",
       "</table>\n",
       "</div>"
      ],
      "text/plain": [
       "   id             title\n",
       "0   1  Film & Animation\n",
       "1   2  Autos & Vehicles\n",
       "2  10             Music\n",
       "3  15    Pets & Animals\n",
       "4  17            Sports\n",
       "5  18      Short Movies\n",
       "6  19   Travel & Events\n",
       "7  20            Gaming\n",
       "8  21     Videoblogging\n",
       "9  22    People & Blogs"
      ]
     },
     "execution_count": 19,
     "metadata": {},
     "output_type": "execute_result"
    }
   ],
   "source": [
    "data_category = {'id':[],'title':[]}\n",
    "def categoryTable(data,json):\n",
    "    for item in json:\n",
    "        data['id'].append(item['id'])\n",
    "        data['title'].append(item['snippet']['title'])\n",
    "categoryTable(data_category,category_vid['items'])\n",
    "df1 = pd.DataFrame(data_category)\n",
    "df1[:10]"
   ]
  },
  {
   "cell_type": "code",
   "execution_count": 20,
   "metadata": {
    "collapsed": true
   },
   "outputs": [],
   "source": [
    "result = pd.merge(df, df1, left_on='categoryId', right_on='id')\n",
    "result.to_csv('result.csv')"
   ]
  },
  {
   "cell_type": "code",
   "execution_count": 40,
   "metadata": {},
   "outputs": [],
   "source": [
    "token = session.refresh_token(refresh_url, \n",
    "                             client_id=keychain['youtube']['client_id'],\n",
    "                             client_secret=keychain['youtube']['client_secret'],\n",
    "                             refresh_token=token['refresh_token'])"
   ]
  }
 ],
 "metadata": {
  "kernelspec": {
   "display_name": "Python 3",
   "language": "python",
   "name": "python3"
  },
  "language_info": {
   "codemirror_mode": {
    "name": "ipython",
    "version": 3
   },
   "file_extension": ".py",
   "mimetype": "text/x-python",
   "name": "python",
   "nbconvert_exporter": "python",
   "pygments_lexer": "ipython3",
   "version": "3.6.1"
  }
 },
 "nbformat": 4,
 "nbformat_minor": 2
}
