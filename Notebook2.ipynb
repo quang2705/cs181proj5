{
 "cells": [
  {
   "cell_type": "code",
   "execution_count": 1,
   "metadata": {
    "collapsed": true
   },
   "outputs": [],
   "source": [
    "import json\n",
    "import requests\n",
    "import pandas as pd\n",
    "import importlib\n",
    "from requests_oauthlib import OAuth2Session\n",
    "import keys"
   ]
  },
  {
   "cell_type": "code",
   "execution_count": 2,
   "metadata": {
    "collapsed": true
   },
   "outputs": [],
   "source": [
    "def loadIn():\n",
    "    token=open('token.json',mode='r')\n",
    "    token=token.read()\n",
    "    token=json.loads(token)\n",
    "    return token"
   ]
  },
  {
   "cell_type": "code",
   "execution_count": 3,
   "metadata": {},
   "outputs": [],
   "source": [
    "def keychain():\n",
    "    importlib.reload(keys)\n",
    "    keychain = keys.keychain\n",
    "    client_id = keychain['youtube']['client_id']\n",
    "    scope = keychain['youtube']['scope']\n",
    "    redirect = keychain['youtube']['redirect_uris'][0]\n",
    "    refresh_url = keychain['youtube']['token_uri']\n",
    "    session = OAuth2Session(client_id, scope=scope, redirect_uri=redirect)\n",
    "    return keychain,session,refresh_url"
   ]
  },
  {
   "cell_type": "code",
   "execution_count": 4,
   "metadata": {
    "collapsed": true
   },
   "outputs": [],
   "source": [
    "def createUrl_1(token):\n",
    "    D = {}\n",
    "    D['access_token'] = token['access_token']\n",
    "    D['part'] = ['snippet,contentDetails,statistics']\n",
    "    D['maxResults'] = '50'\n",
    "    D['chart'] ='mostPopular'\n",
    "    url ='https://www.googleapis.com/youtube/v3/videos'\n",
    "    popular_vid = requests.get(url, params = D)\n",
    "    popular_vid = popular_vid.json()\n",
    "    return popular_vid,D,url"
   ]
  },
  {
   "cell_type": "code",
   "execution_count": 5,
   "metadata": {
    "collapsed": true
   },
   "outputs": [],
   "source": [
    "def getData(data,vid):\n",
    "    for item in vid:\n",
    "        data['videoId'].append(item['id'])\n",
    "        data['channelId'].append(item['snippet']['channelId'])\n",
    "        data['categoryId'].append(item['snippet']['categoryId'])\n",
    "        data['channelTitle'].append(item['snippet']['channelTitle'])\n",
    "        data['publishedAt'].append(item['snippet']['publishedAt'][10:12])\n",
    "    return data"
   ]
  },
  {
   "cell_type": "code",
   "execution_count": 6,
   "metadata": {
    "collapsed": true
   },
   "outputs": [],
   "source": [
    "def test(token):\n",
    "    data = {'videoId':[], 'channelId':[],'categoryId':[] ,'channelTitle':[], 'publishedAt':[]}\n",
    "    page = []\n",
    "    popular_vid,D,url=createUrl_1(token)\n",
    "    for i in range(20):\n",
    "        if 'nextPageToken' not in popular_vid:\n",
    "            next_page = 'CAUQAA'\n",
    "        else:\n",
    "            next_page = popular_vid['nextPageToken']\n",
    "        page.append(next_page)\n",
    "        D['pageToken'] = next_page\n",
    "        popular_vid = requests.get(url, params = D)\n",
    "        popular_vid = popular_vid.json()\n",
    "    return getData(data,popular_vid['items'])"
   ]
  },
  {
   "cell_type": "code",
   "execution_count": 7,
   "metadata": {},
   "outputs": [],
   "source": [
    "def refreshToken(token):\n",
    "    keychain_1,session,refresh_url=keychain()\n",
    "    token = session.refresh_token(refresh_url, \n",
    "                                 client_id=keychain_1['youtube']['client_id'],\n",
    "                                 client_secret=keychain_1['youtube']['client_secret'],\n",
    "                                 refresh_token=token['refresh_token'])\n",
    "    return token"
   ]
  },
  {
   "cell_type": "code",
   "execution_count": 8,
   "metadata": {},
   "outputs": [],
   "source": [
    "def categories(token):\n",
    "    url = 'https://www.googleapis.com/youtube/v3/videoCategories'\n",
    "    C = {}\n",
    "    C['access_token'] = token['access_token']\n",
    "    C['part'] = 'snippet'\n",
    "    C['regionCode'] = 'US'\n",
    "    category_vid = requests.get(url, params = C)\n",
    "    category_vid = category_vid.json()\n",
    "    return category_vid"
   ]
  },
  {
   "cell_type": "code",
   "execution_count": 9,
   "metadata": {
    "collapsed": true
   },
   "outputs": [],
   "source": [
    "def categoryTable(json):\n",
    "    data_category = {'id':[],'title':[]}\n",
    "    for item in json:\n",
    "        data_category['id'].append(item['id'])\n",
    "        data_category['title'].append(item['snippet']['title'])\n",
    "    return data_category"
   ]
  },
  {
   "cell_type": "code",
   "execution_count": 10,
   "metadata": {},
   "outputs": [],
   "source": [
    "def merge(token,df):\n",
    "    try:\n",
    "        category_vid=categories(token)\n",
    "        data_2=categoryTable(category_vid['items'])\n",
    "        df1 = pd.DataFrame(data_2)\n",
    "    \n",
    "    except KeyError:\n",
    "        new_token=refreshToken(token)\n",
    "\n",
    "        category_vid=categories(new_token)\n",
    "        data_2=categoryTable(category_vid['items'])\n",
    "        df1 = pd.DataFrame(data_2)\n",
    "\n",
    "    result = pd.merge(df, df1, left_on='categoryId', right_on='id')\n",
    "    result.to_csv('result.csv')"
   ]
  },
  {
   "cell_type": "code",
   "execution_count": 11,
   "metadata": {
    "scrolled": true
   },
   "outputs": [],
   "source": [
    "def main():\n",
    "    token=loadIn()\n",
    "    try:\n",
    "        data_1=test(token)\n",
    "        \n",
    "    except KeyError:\n",
    "        new_token=refreshToken(token)\n",
    "\n",
    "        data_1=test(new_token)\n",
    "\n",
    "    df= pd.DataFrame(data_1)\n",
    "    \n",
    "    merge(token,df)"
   ]
  },
  {
   "cell_type": "code",
   "execution_count": 12,
   "metadata": {},
   "outputs": [],
   "source": [
    "main()"
   ]
  }
 ],
 "metadata": {
  "kernelspec": {
   "display_name": "Python 3",
   "language": "python",
   "name": "python3"
  },
  "language_info": {
   "codemirror_mode": {
    "name": "ipython",
    "version": 3
   },
   "file_extension": ".py",
   "mimetype": "text/x-python",
   "name": "python",
   "nbconvert_exporter": "python",
   "pygments_lexer": "ipython3",
   "version": "3.6.2"
  }
 },
 "nbformat": 4,
 "nbformat_minor": 2
}
