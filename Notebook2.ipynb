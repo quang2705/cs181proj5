{
 "cells": [
  {
   "cell_type": "code",
   "execution_count": null,
   "metadata": {
    "collapsed": true
   },
   "outputs": [],
   "source": [
    "import json\n",
    "import requests\n",
    "import pandas as pd\n",
    "import importlib\n",
    "from requests_oauthlib import OAuth2Session\n",
    "import keys"
   ]
  },
  {
   "cell_type": "code",
   "execution_count": null,
   "metadata": {
    "collapsed": true
   },
   "outputs": [],
   "source": [
    "def loadIn():\n",
    "    \"\"\"\n",
    "    This function opens a saved token.json file in the same directory, and reads it in in json\n",
    "    \n",
    "    Parameters:\n",
    "    None\n",
    "    \n",
    "    Return Values:\n",
    "    A json object\n",
    "    \"\"\"\n",
    "    token=open('token.json',mode='r')\n",
    "    token=token.read()\n",
    "    token=json.loads(token)\n",
    "    return token"
   ]
  },
  {
   "cell_type": "code",
   "execution_count": null,
   "metadata": {
    "collapsed": true
   },
   "outputs": [],
   "source": [
    "def keychain():\n",
    "    \"\"\"\n",
    "    This function opens a keys.py file in the same directory, and using that keychain, creates an OAuth2 session with our api\n",
    "    \n",
    "    Parameters:\n",
    "    None\n",
    "    \n",
    "    Return Values:\n",
    "    The keys.py file as keychain, an OAuth2 session, and a refresh_url\n",
    "    \"\"\"\n",
    "    importlib.reload(keys)\n",
    "    keychain = keys.keychain\n",
    "    client_id = keychain['youtube']['client_id']\n",
    "    scope = keychain['youtube']['scope']\n",
    "    redirect = keychain['youtube']['redirect_uris'][0]\n",
    "    refresh_url = keychain['youtube']['token_uri']\n",
    "    session = OAuth2Session(client_id, scope=scope, redirect_uri=redirect)\n",
    "    return keychain,session,refresh_url"
   ]
  },
  {
   "cell_type": "code",
   "execution_count": null,
   "metadata": {
    "collapsed": true
   },
   "outputs": [],
   "source": [
    "def createUrl(token,country=\"\"):\n",
    "    \"\"\"\n",
    "    This function creates a url, which it uses as part of a get \n",
    "    request to query the youtube api for information about the most\n",
    "    popular videos in a given region.\n",
    "    \n",
    "    Parameters:\n",
    "    A valid authorization token, and optionally a country to gather local data \n",
    "    \n",
    "    Return Values:\n",
    "    A json object with the queried data, a dictionary with the search paramters, and the created url\n",
    "    \"\"\"\n",
    "    D={}\n",
    "    D['access_token'] = token['access_token']\n",
    "    D['part'] = ['snippet,contentDetails,statistics']\n",
    "    D['maxResults'] = '50'\n",
    "    D['chart'] ='mostPopular'\n",
    "    D['PageToken'] = 'CAUQAA'\n",
    "    if country != \"\":\n",
    "        D[\"regionCode\"] = country\n",
    "    #checks if a country was specified\n",
    "    \n",
    "    url ='https://www.googleapis.com/youtube/v3/videos'\n",
    "    popular_vid = requests.get(url, params = D)\n",
    "    #requests the information for the youtube api\n",
    "    \n",
    "    popular_vid = popular_vid.json()\n",
    "    #turns the recieved information into a json object\n",
    "   \n",
    "    return popular_vid,D,url"
   ]
  },
  {
   "cell_type": "code",
   "execution_count": null,
   "metadata": {
    "collapsed": true
   },
   "outputs": [],
   "source": [
    "def arrange(data,vid,country=\"\"):\n",
    "    \"\"\"\n",
    "    This function sorts the gathered data into a dictionary, so it can later be passed into a data frame\n",
    "    \n",
    "    Parameters:\n",
    "    A dictionray, the gathered data, and optionally the country the data was gathered from\n",
    "    \n",
    "    Return Values:\n",
    "    A dictionary\n",
    "    \"\"\"\n",
    "    if country != \"\" and \"CountryCode\" not in data:\n",
    "        data[\"CountryCode\"] = []\n",
    "    #checks if a country was specified\n",
    "    \n",
    "    for item in vid:\n",
    "        data['videoId'].append(item['id'])\n",
    "        data['channelId'].append(item['snippet']['channelId'])\n",
    "        data['categoryId'].append(item['snippet']['categoryId'])\n",
    "        data['channelTitle'].append(item['snippet']['channelTitle'])\n",
    "        data['publishedAt'].append(item['snippet']['publishedAt'][11:13])\n",
    "        if country != \"\":\n",
    "            data['CountryCode'].append(country)\n",
    "    return data"
   ]
  },
  {
   "cell_type": "code",
   "execution_count": null,
   "metadata": {
    "collapsed": true
   },
   "outputs": [],
   "source": [
    "def getData(token,country=\"\"):\n",
    "    \"\"\"\n",
    "    This function, with the use of several helper functions, \n",
    "    queries the youtube api, retrieves data, and sorts it into a dictionary.\n",
    "    This function is the parent function of createUrl and arrange.\n",
    "    \n",
    "    Parameters:\n",
    "    A valid authorization token, and optionally a country to gather local data \n",
    "    \n",
    "    Return Values:\n",
    "    A dictionary\n",
    "    \"\"\"\n",
    "    data = {'videoId':[], 'channelId':[],'categoryId':[] ,'channelTitle':[], 'publishedAt':[]}\n",
    "    page = []\n",
    "    popular_vid,D,url=createUrl(token,country)\n",
    "    #Uses the helper function createUrl to get information from the youtube api\n",
    "    \n",
    "    for i in range(20):\n",
    "        if 'nextPageToken' not in popular_vid:\n",
    "            next_page = 'CAUQAA'\n",
    "        else:\n",
    "            next_page = popular_vid['nextPageToken']\n",
    "    #creates a for loop to loop through consecutive pages of information from the youtube api\n",
    "    #using the nextPageToken\n",
    "        \n",
    "        page.append(next_page)\n",
    "        D['pageToken'] = next_page\n",
    "        popular_vid = requests.get(url, params = D)\n",
    "    #requests new pages of information from the youtube api by appending the url\n",
    "        \n",
    "        popular_vid = popular_vid.json()\n",
    "    return arrange(data,popular_vid['items'],country)"
   ]
  },
  {
   "cell_type": "code",
   "execution_count": null,
   "metadata": {
    "collapsed": true
   },
   "outputs": [],
   "source": [
    "def refreshToken(token):\n",
    "    \"\"\"\n",
    "    This function takes an expired token, and refreshes the expired token\n",
    "    with the refresh token\n",
    "    \n",
    "    Paremeters:\n",
    "    An expired token\n",
    "    \n",
    "    Return Value:\n",
    "    A new token\n",
    "    \"\"\"\n",
    "    keychain_1,session,refresh_url=keychain()\n",
    "    #Uses the helper function keychain to pull needed information out to refresh\n",
    "    #the token\n",
    "    \n",
    "    token = session.refresh_token(refresh_url, \n",
    "                                 client_id=keychain_1['youtube']['client_id'],\n",
    "                                 client_secret=keychain_1['youtube']['client_secret'],\n",
    "                                 refresh_token=token['refresh_token'])\n",
    "    #creates a refreshed session with the youtube api using the refresh token\n",
    "    #to allowed continued access and authorization\n",
    "    return token"
   ]
  },
  {
   "cell_type": "code",
   "execution_count": null,
   "metadata": {
    "collapsed": true
   },
   "outputs": [],
   "source": [
    "def categories(token,country=\"\"):\n",
    "    \"\"\"\n",
    "    This function queries the youtube api for the names of each categoryID\n",
    "    \n",
    "    Paramters:\n",
    "    A valid authorization token, and optionally a country to gather local data \n",
    "    \n",
    "    Return Value:\n",
    "    A json object\n",
    "    \"\"\"\n",
    "    url = 'https://www.googleapis.com/youtube/v3/videoCategories'\n",
    "    C = {}\n",
    "    C['access_token'] = token['access_token']\n",
    "    C['part'] = 'snippet'\n",
    "    if country!=\"\":\n",
    "        C['regionCode']=country\n",
    "    #checks if a country was specified\n",
    "    \n",
    "    C['regionCode'] = 'US'\n",
    "    category_vid = requests.get(url, params = C)\n",
    "    category_vid = category_vid.json()\n",
    "    return category_vid"
   ]
  },
  {
   "cell_type": "code",
   "execution_count": null,
   "metadata": {
    "collapsed": true
   },
   "outputs": [],
   "source": [
    "def categoryTable(json):\n",
    "    \"\"\"\n",
    "    This function takes a json object and sorts it into a dictionary\n",
    "    \n",
    "    Parameters:\n",
    "    A json object\n",
    "    \n",
    "    Return Values:\n",
    "    A dictionary\n",
    "    \"\"\"\n",
    "    data_category = {'id':[],'title':[]}\n",
    "    for item in json:\n",
    "        data_category['id'].append(item['id'])\n",
    "        data_category['title'].append(item['snippet']['title'])\n",
    "    return data_category"
   ]
  },
  {
   "cell_type": "code",
   "execution_count": null,
   "metadata": {},
   "outputs": [],
   "source": [
    "def merge(token,df,country=\"\"):\n",
    "    \"\"\"\n",
    "    This function, with the use of several helper functions,\n",
    "    queries the youtube api so it can merge two dataframes\n",
    "    together, and apply correct category labels.\n",
    "    \n",
    "    Paramters:\n",
    "    A valid authorization token, a dataframe, and optionally \n",
    "    a country\n",
    "    \n",
    "    Return Values:\n",
    "    Exports a .csv file with the merged data\n",
    "    \"\"\"\n",
    "    try:\n",
    "        category_vid=categories(token)\n",
    "        data_2=categoryTable(category_vid['items'])\n",
    "        df1 = pd.DataFrame(data_2)\n",
    "    #this try except loops tests if the authorization token is valid,\n",
    "    #and refreshes it if not\n",
    "    \n",
    "    except KeyError:\n",
    "        new_token=refreshToken(token)\n",
    "\n",
    "        category_vid=categories(new_token)\n",
    "        data_2=categoryTable(category_vid['items'])\n",
    "        df1 = pd.DataFrame(data_2)\n",
    "\n",
    "    result = pd.merge(df, df1, left_on='categoryId', right_on='id')\n",
    "    result.to_csv('df_'+country+'.csv')"
   ]
  },
  {
   "cell_type": "code",
   "execution_count": null,
   "metadata": {},
   "outputs": [],
   "source": [
    "def main(country=\"\"):\n",
    "    \"\"\"\n",
    "    This function queries the youtube api for data about their current\n",
    "    most popular videos, and returns that information in the form of\n",
    "    a .csv file.\n",
    "    \n",
    "    Parameters:\n",
    "    Optionally a country to gather local data\n",
    "    \n",
    "    Return Values:\n",
    "    Exports a .csv file with the data\n",
    "    \"\"\"\n",
    "    token=loadIn()\n",
    "    try:\n",
    "        data=getData(token,country)\n",
    "    #this try except loops tests if the authorization token is valid,\n",
    "    #and refreshes it if not\n",
    "    \n",
    "    except KeyError:\n",
    "        new_token=refreshToken(token)\n",
    "    \n",
    "        data=getData(new_token,country)\n",
    "    df= pd.DataFrame(data)\n",
    "    \n",
    "    merge(token,df,country)"
   ]
  },
  {
   "cell_type": "code",
   "execution_count": null,
   "metadata": {},
   "outputs": [],
   "source": [
    "main('FR')"
   ]
  }
 ],
 "metadata": {
  "kernelspec": {
   "display_name": "Python 3",
   "language": "python",
   "name": "python3"
  },
  "language_info": {
   "codemirror_mode": {
    "name": "ipython",
    "version": 3
   },
   "file_extension": ".py",
   "mimetype": "text/x-python",
   "name": "python",
   "nbconvert_exporter": "python",
   "pygments_lexer": "ipython3",
   "version": "3.6.2"
  }
 },
 "nbformat": 4,
 "nbformat_minor": 2
}
