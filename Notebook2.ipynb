{
 "cells": [
  {
   "cell_type": "code",
   "execution_count": 1,
   "metadata": {
    "collapsed": true
   },
   "outputs": [],
   "source": [
    "import json\n",
    "import requests\n",
    "import pandas as pd\n",
    "import importlib\n",
    "from requests_oauthlib import OAuth2Session"
   ]
  },
  {
   "cell_type": "code",
   "execution_count": 2,
   "metadata": {},
   "outputs": [
    {
     "data": {
      "text/plain": [
       "'{\"access_token\": \"ya29.GlscBe7_nUkM8rlUdA3APRugfsqL6jNPWA0KADaEWDjfEg4PYs3cyU0wIepXsOAOeaK3pfwBQv_qbcD5vXMp-LwIcmQ_qHWtxXML2xmWJQPmqmx-kkw9C5Q8CC6m\", \"expires_in\": 3600, \"token_type\": \"Bearer\", \"expires_at\": 1512716215.3208017, \"refresh_token\": \"1/404Y5NzJtD0RmPCDMHRJ2QOHgM1dHW3fkogwXyJZiMQ\"}'"
      ]
     },
     "execution_count": 2,
     "metadata": {},
     "output_type": "execute_result"
    }
   ],
   "source": [
    "token=open('token.json',mode='r')\n",
    "token=token.read()\n",
    "token"
   ]
  },
  {
   "cell_type": "code",
   "execution_count": 3,
   "metadata": {},
   "outputs": [
    {
     "data": {
      "text/plain": [
       "{'access_token': 'ya29.GlscBe7_nUkM8rlUdA3APRugfsqL6jNPWA0KADaEWDjfEg4PYs3cyU0wIepXsOAOeaK3pfwBQv_qbcD5vXMp-LwIcmQ_qHWtxXML2xmWJQPmqmx-kkw9C5Q8CC6m',\n",
       " 'expires_at': 1512716215.3208017,\n",
       " 'expires_in': 3600,\n",
       " 'refresh_token': '1/404Y5NzJtD0RmPCDMHRJ2QOHgM1dHW3fkogwXyJZiMQ',\n",
       " 'token_type': 'Bearer'}"
      ]
     },
     "execution_count": 3,
     "metadata": {},
     "output_type": "execute_result"
    }
   ],
   "source": [
    "token=json.loads(token)\n",
    "token"
   ]
  },
  {
   "cell_type": "code",
   "execution_count": 4,
   "metadata": {},
   "outputs": [
    {
     "data": {
      "text/plain": [
       "{'auth_provider_x509_cert_url': 'https://www.googleapis.com/oauth2/v1/certs',\n",
       " 'auth_uri': 'https://accounts.google.com/o/oauth2/auth',\n",
       " 'client_id': '126920892433-e58m7pn87600743drvlsjsanlcsus2av.apps.googleusercontent.com',\n",
       " 'client_secret': 'flFfvozgUappY1MIRCPE5Cxc',\n",
       " 'project_id': 'project5-187402',\n",
       " 'redirect_uris': ['urn:ietf:wg:oauth:2.0:oob', 'http://localhost'],\n",
       " 'scope': ['https://www.googleapis.com/auth/youtube.readonly'],\n",
       " 'token_uri': 'https://accounts.google.com/o/oauth2/token'}"
      ]
     },
     "execution_count": 4,
     "metadata": {},
     "output_type": "execute_result"
    }
   ],
   "source": [
    "import keys\n",
    "importlib.reload(keys)\n",
    "keychain = keys.keychain\n",
    "client_id = keychain['youtube']['client_id']\n",
    "scope = keychain['youtube']['scope']\n",
    "redirect = keychain['youtube']['redirect_uris'][0]\n",
    "refresh_url = keychain['youtube']['token_uri']\n",
    "session = OAuth2Session(client_id, scope=scope, redirect_uri=redirect)\n",
    "keychain['youtube']"
   ]
  },
  {
   "cell_type": "code",
   "execution_count": 14,
   "metadata": {
    "collapsed": true
   },
   "outputs": [],
   "source": [
    "D = {}\n",
    "D['access_token'] = token['access_token']\n",
    "D['part'] = ['snippet,contentDetails,statistics']\n",
    "D['maxResults'] = '50'\n",
    "D['chart'] ='mostPopular'\n",
    "url ='https://www.googleapis.com/youtube/v3/videos'\n",
    "popular_vid = requests.get(url, params = D)\n",
    "popular_vid = popular_vid.json()"
   ]
  },
  {
   "cell_type": "code",
   "execution_count": 16,
   "metadata": {
    "collapsed": true
   },
   "outputs": [],
   "source": [
    "def getData(data,vid):\n",
    "    for item in vid:\n",
    "        data['videoId'].append(item['id'])\n",
    "        data['channelId'].append(item['snippet']['channelId'])\n",
    "        data['categoryId'].append(item['snippet']['categoryId'])\n",
    "        data['channelTitle'].append(item['snippet']['channelTitle'])\n",
    "        data['publishedAt'].append(item['snippet']['publishedAt'][11:13])"
   ]
  },
  {
   "cell_type": "code",
   "execution_count": 17,
   "metadata": {},
   "outputs": [
    {
     "data": {
      "text/html": [
       "<div>\n",
       "<style>\n",
       "    .dataframe thead tr:only-child th {\n",
       "        text-align: right;\n",
       "    }\n",
       "\n",
       "    .dataframe thead th {\n",
       "        text-align: left;\n",
       "    }\n",
       "\n",
       "    .dataframe tbody tr th {\n",
       "        vertical-align: top;\n",
       "    }\n",
       "</style>\n",
       "<table border=\"1\" class=\"dataframe\">\n",
       "  <thead>\n",
       "    <tr style=\"text-align: right;\">\n",
       "      <th></th>\n",
       "      <th>categoryId</th>\n",
       "      <th>channelId</th>\n",
       "      <th>channelTitle</th>\n",
       "      <th>publishedAt</th>\n",
       "      <th>videoId</th>\n",
       "    </tr>\n",
       "  </thead>\n",
       "  <tbody>\n",
       "    <tr>\n",
       "      <th>0</th>\n",
       "      <td>24</td>\n",
       "      <td>UCPWQWav6BpPvtanCtloXkiw</td>\n",
       "      <td>The CW Television Network</td>\n",
       "      <td>06</td>\n",
       "      <td>xkYpO9ATUT0</td>\n",
       "    </tr>\n",
       "    <tr>\n",
       "      <th>1</th>\n",
       "      <td>22</td>\n",
       "      <td>UCDdi0yUyGW1PKzYXaIACnuA</td>\n",
       "      <td>Jessica Kellgren-Fozard</td>\n",
       "      <td>19</td>\n",
       "      <td>zslYmBRhdOM</td>\n",
       "    </tr>\n",
       "    <tr>\n",
       "      <th>2</th>\n",
       "      <td>22</td>\n",
       "      <td>UCqwxMqUcL-XC3D9-fTP93Mg</td>\n",
       "      <td>LIL UZI VERT</td>\n",
       "      <td>22</td>\n",
       "      <td>SxAp27sFaIM</td>\n",
       "    </tr>\n",
       "    <tr>\n",
       "      <th>3</th>\n",
       "      <td>1</td>\n",
       "      <td>UCOpcACMWblDls9Z6GERVi1A</td>\n",
       "      <td>Screen Junkies</td>\n",
       "      <td>18</td>\n",
       "      <td>dDAlGl_8f9U</td>\n",
       "    </tr>\n",
       "    <tr>\n",
       "      <th>4</th>\n",
       "      <td>19</td>\n",
       "      <td>UCajXeitgFL-rb5-gXI-aG8Q</td>\n",
       "      <td>Great Big Story</td>\n",
       "      <td>07</td>\n",
       "      <td>2sxuAm569IY</td>\n",
       "    </tr>\n",
       "    <tr>\n",
       "      <th>5</th>\n",
       "      <td>10</td>\n",
       "      <td>UCmKdSrwf1e8coqAzUsrVHZw</td>\n",
       "      <td>SiaVEVO</td>\n",
       "      <td>02</td>\n",
       "      <td>fd7M_5xW0SI</td>\n",
       "    </tr>\n",
       "    <tr>\n",
       "      <th>6</th>\n",
       "      <td>26</td>\n",
       "      <td>UCekQr9znsk2vWxBo3YiLq2w</td>\n",
       "      <td>You Suck At Cooking</td>\n",
       "      <td>15</td>\n",
       "      <td>a_iMlwkzwow</td>\n",
       "    </tr>\n",
       "    <tr>\n",
       "      <th>7</th>\n",
       "      <td>17</td>\n",
       "      <td>UCRijo3ddMTht_IHyNSNXpNQ</td>\n",
       "      <td>Dude Perfect</td>\n",
       "      <td>22</td>\n",
       "      <td>-RmUADCWI4A</td>\n",
       "    </tr>\n",
       "    <tr>\n",
       "      <th>8</th>\n",
       "      <td>24</td>\n",
       "      <td>UCoziFm3M4sHDq1kkx0UwtRw</td>\n",
       "      <td>Glam&amp;Gore</td>\n",
       "      <td>21</td>\n",
       "      <td>AM1pavPRU8E</td>\n",
       "    </tr>\n",
       "    <tr>\n",
       "      <th>9</th>\n",
       "      <td>24</td>\n",
       "      <td>UCLkZVEXz_qObWr7hAEbS_pQ</td>\n",
       "      <td>5MadMovieMakers</td>\n",
       "      <td>19</td>\n",
       "      <td>me5ifeBFaFo</td>\n",
       "    </tr>\n",
       "  </tbody>\n",
       "</table>\n",
       "</div>"
      ],
      "text/plain": [
       "  categoryId                 channelId               channelTitle publishedAt  \\\n",
       "0         24  UCPWQWav6BpPvtanCtloXkiw  The CW Television Network          06   \n",
       "1         22  UCDdi0yUyGW1PKzYXaIACnuA    Jessica Kellgren-Fozard          19   \n",
       "2         22  UCqwxMqUcL-XC3D9-fTP93Mg               LIL UZI VERT          22   \n",
       "3          1  UCOpcACMWblDls9Z6GERVi1A             Screen Junkies          18   \n",
       "4         19  UCajXeitgFL-rb5-gXI-aG8Q            Great Big Story          07   \n",
       "5         10  UCmKdSrwf1e8coqAzUsrVHZw                    SiaVEVO          02   \n",
       "6         26  UCekQr9znsk2vWxBo3YiLq2w        You Suck At Cooking          15   \n",
       "7         17  UCRijo3ddMTht_IHyNSNXpNQ               Dude Perfect          22   \n",
       "8         24  UCoziFm3M4sHDq1kkx0UwtRw                  Glam&Gore          21   \n",
       "9         24  UCLkZVEXz_qObWr7hAEbS_pQ            5MadMovieMakers          19   \n",
       "\n",
       "       videoId  \n",
       "0  xkYpO9ATUT0  \n",
       "1  zslYmBRhdOM  \n",
       "2  SxAp27sFaIM  \n",
       "3  dDAlGl_8f9U  \n",
       "4  2sxuAm569IY  \n",
       "5  fd7M_5xW0SI  \n",
       "6  a_iMlwkzwow  \n",
       "7  -RmUADCWI4A  \n",
       "8  AM1pavPRU8E  \n",
       "9  me5ifeBFaFo  "
      ]
     },
     "execution_count": 17,
     "metadata": {},
     "output_type": "execute_result"
    }
   ],
   "source": [
    "data = {'videoId':[], 'channelId':[],'categoryId':[] ,'channelTitle':[], 'publishedAt':[]}\n",
    "page = []\n",
    "for i in range(20):\n",
    "    if 'nextPageToken' not in popular_vid:\n",
    "        next_page = 'CAUQAA'\n",
    "    else:\n",
    "        next_page = popular_vid['nextPageToken']\n",
    "    page.append(next_page)\n",
    "    D['pageToken'] = next_page\n",
    "    popular_vid = requests.get(url, params = D)\n",
    "    popular_vid = popular_vid.json()\n",
    "    getData(data,popular_vid['items'])\n",
    "df= pd.DataFrame(data)\n",
    "df[:10]"
   ]
  },
  {
   "cell_type": "code",
   "execution_count": 18,
   "metadata": {
    "collapsed": true
   },
   "outputs": [],
   "source": [
    "url = 'https://www.googleapis.com/youtube/v3/videoCategories'\n",
    "C = {}\n",
    "C['access_token'] = token['access_token']\n",
    "C['part'] = 'snippet'\n",
    "C['regionCode'] = 'US'\n",
    "category_vid = requests.get(url, params = C)\n",
    "category_vid = category_vid.json()"
   ]
  },
  {
   "cell_type": "code",
   "execution_count": 19,
   "metadata": {},
   "outputs": [
    {
     "data": {
      "text/html": [
       "<div>\n",
       "<style>\n",
       "    .dataframe thead tr:only-child th {\n",
       "        text-align: right;\n",
       "    }\n",
       "\n",
       "    .dataframe thead th {\n",
       "        text-align: left;\n",
       "    }\n",
       "\n",
       "    .dataframe tbody tr th {\n",
       "        vertical-align: top;\n",
       "    }\n",
       "</style>\n",
       "<table border=\"1\" class=\"dataframe\">\n",
       "  <thead>\n",
       "    <tr style=\"text-align: right;\">\n",
       "      <th></th>\n",
       "      <th>id</th>\n",
       "      <th>title</th>\n",
       "    </tr>\n",
       "  </thead>\n",
       "  <tbody>\n",
       "    <tr>\n",
       "      <th>0</th>\n",
       "      <td>1</td>\n",
       "      <td>Film &amp; Animation</td>\n",
       "    </tr>\n",
       "    <tr>\n",
       "      <th>1</th>\n",
       "      <td>2</td>\n",
       "      <td>Autos &amp; Vehicles</td>\n",
       "    </tr>\n",
       "    <tr>\n",
       "      <th>2</th>\n",
       "      <td>10</td>\n",
       "      <td>Music</td>\n",
       "    </tr>\n",
       "    <tr>\n",
       "      <th>3</th>\n",
       "      <td>15</td>\n",
       "      <td>Pets &amp; Animals</td>\n",
       "    </tr>\n",
       "    <tr>\n",
       "      <th>4</th>\n",
       "      <td>17</td>\n",
       "      <td>Sports</td>\n",
       "    </tr>\n",
       "    <tr>\n",
       "      <th>5</th>\n",
       "      <td>18</td>\n",
       "      <td>Short Movies</td>\n",
       "    </tr>\n",
       "    <tr>\n",
       "      <th>6</th>\n",
       "      <td>19</td>\n",
       "      <td>Travel &amp; Events</td>\n",
       "    </tr>\n",
       "    <tr>\n",
       "      <th>7</th>\n",
       "      <td>20</td>\n",
       "      <td>Gaming</td>\n",
       "    </tr>\n",
       "    <tr>\n",
       "      <th>8</th>\n",
       "      <td>21</td>\n",
       "      <td>Videoblogging</td>\n",
       "    </tr>\n",
       "    <tr>\n",
       "      <th>9</th>\n",
       "      <td>22</td>\n",
       "      <td>People &amp; Blogs</td>\n",
       "    </tr>\n",
       "  </tbody>\n",
       "</table>\n",
       "</div>"
      ],
      "text/plain": [
       "   id             title\n",
       "0   1  Film & Animation\n",
       "1   2  Autos & Vehicles\n",
       "2  10             Music\n",
       "3  15    Pets & Animals\n",
       "4  17            Sports\n",
       "5  18      Short Movies\n",
       "6  19   Travel & Events\n",
       "7  20            Gaming\n",
       "8  21     Videoblogging\n",
       "9  22    People & Blogs"
      ]
     },
     "execution_count": 19,
     "metadata": {},
     "output_type": "execute_result"
    }
   ],
   "source": [
    "data_category = {'id':[],'title':[]}\n",
    "def categoryTable(data,json):\n",
    "    for item in json:\n",
    "        data['id'].append(item['id'])\n",
    "        data['title'].append(item['snippet']['title'])\n",
    "categoryTable(data_category,category_vid['items'])\n",
    "df1 = pd.DataFrame(data_category)\n",
    "df1[:10]"
   ]
  },
  {
   "cell_type": "code",
   "execution_count": 22,
   "metadata": {
    "collapsed": true
   },
   "outputs": [],
   "source": [
    "result = pd.merge(df, df1, left_on='categoryId', right_on='id')\n",
    "result.to_csv('result.csv')"
   ]
  },
  {
   "cell_type": "code",
   "execution_count": 21,
   "metadata": {
    "collapsed": true
   },
   "outputs": [],
   "source": [
    "token = session.refresh_token(refresh_url, \n",
    "                             client_id=keychain['youtube']['client_id'],\n",
    "                             client_secret=keychain['youtube']['client_secret'],\n",
    "                             refresh_token=token['refresh_token'])"
   ]
  }
 ],
 "metadata": {
  "kernelspec": {
   "display_name": "Python 3",
   "language": "python",
   "name": "python3"
  },
  "language_info": {
   "codemirror_mode": {
    "name": "ipython",
    "version": 3
   },
   "file_extension": ".py",
   "mimetype": "text/x-python",
   "name": "python",
   "nbconvert_exporter": "python",
   "pygments_lexer": "ipython3",
   "version": "3.6.1"
  }
 },
 "nbformat": 4,
 "nbformat_minor": 2
}
